{
 "cells": [
  {
   "cell_type": "code",
   "execution_count": 7,
   "metadata": {},
   "outputs": [],
   "source": [
    "from dataclasses import dataclass\n",
    "from pyrs.pyrs import passes, to_hugr_dot, to_hugr, check_soundness\n",
    "from pytket.circuit import Circuit, OpType\n",
    "from pathlib import Path\n",
    "from pytket.qasm.qasm import circuit_from_qasm\n",
    "from pytket.passes.auto_rebase import auto_rebase_pass\n",
    "from pytket.passes import FlattenRelabelRegistersPass, RemoveRedundancies\n",
    "from pytket.utils.stats import gate_counts\n",
    "import graphviz\n"
   ]
  },
  {
   "cell_type": "code",
   "execution_count": 8,
   "metadata": {},
   "outputs": [],
   "source": [
    "direc = Path.home() / \"tket/tket/pytket/tests/qasm_test_files/\"\n",
    "\n",
    "files = list(direc.iterdir())"
   ]
  },
  {
   "cell_type": "code",
   "execution_count": 9,
   "metadata": {},
   "outputs": [],
   "source": [
    "\n",
    "\n",
    "@dataclass\n",
    "class DepthOptimisePass:\n",
    "    def apply(self, circ: Circuit) -> Circuit:\n",
    "        (circ, n_moves) = passes.greedy_depth_reduce(circ)\n",
    "        # print(n_moves)\n",
    "        # return n_moves > 0\n",
    "        return circ\n",
    "\n",
    "def view_dot(c: Circuit):\n",
    "    print(to_hugr_dot(c))\n",
    "    display(graphviz.Source(to_hugr_dot(c)))"
   ]
  },
  {
   "cell_type": "code",
   "execution_count": 14,
   "metadata": {},
   "outputs": [],
   "source": [
    "def test_file(file: Path):\n",
    "    try:\n",
    "        c = circuit_from_qasm(file)\n",
    "    except Exception as e:\n",
    "        print(e)\n",
    "        return\n",
    "    try:\n",
    "        auto_rebase_pass({OpType.PhasedX, OpType.ZZPhase, OpType.Rz}).apply(c)\n",
    "    except RuntimeError as e:\n",
    "        if \"CustomGate\" in str(e):\n",
    "            return\n",
    "        else:\n",
    "            raise e\n",
    "\n",
    "    # tket2 expects simple register names for now\n",
    "    FlattenRelabelRegistersPass().apply(c)\n",
    "    RemoveRedundancies().apply(c)\n",
    "    print(f\"{file.name}\")\n",
    "    c2 = passes.greedy_depth_reduce(c)\n",
    "    assert gate_counts(c) == gate_counts(c2)\n",
    "    print(f\"{c.depth()} {c2.depth()}\")"
   ]
  },
  {
   "cell_type": "code",
   "execution_count": 15,
   "metadata": {},
   "outputs": [
    {
     "name": "stdout",
     "output_type": "stream",
     "text": [
      "test13.qasm\n",
      "23 21\n",
      "test1.qasm\n",
      "64 62\n",
      "Cannot include extern calls without a wasm module specified.\n",
      "File:/Users/seyon/tket/tket/pytket/tests/qasm_test_files/test18.qasm: \n",
      "Line:26. \n",
      "'utf-8' codec can't decode byte 0xff in position 0: invalid start byte\n",
      "test14.qasm\n",
      "228 216\n",
      "test15.qasm\n",
      "24 23\n",
      "test7.qasm\n",
      "8 7\n",
      "test19.qasm\n",
      "529 507\n",
      "zzphase.qasm\n",
      "1 1\n",
      "test8.qasm\n",
      "1745 1621\n",
      "test16.qasm\n",
      "0 0\n",
      "Cannot parse gate of type: gatedoesntexist\n",
      "File:/Users/seyon/tket/tket/pytket/tests/qasm_test_files/test4.qasm: \n",
      "Line:6. \n",
      "test6_output.qasm\n",
      "9 8\n",
      "Cannot include extern calls without a wasm module specified.\n",
      "File:/Users/seyon/tket/tket/pytket/tests/qasm_test_files/test18_output.qasm: \n",
      "Line:19. \n",
      "test5.qasm\n",
      "2 2\n",
      "Cannot include extern calls without a wasm module specified.\n",
      "File:/Users/seyon/tket/tket/pytket/tests/qasm_test_files/test17.qasm: \n",
      "Line:24. \n",
      "test9.qasm\n",
      "15 15\n",
      "test10.qasm\n",
      "10 10\n",
      "Circuit does not contain unit with id: q[4]\n",
      "'utf-8' codec can't decode byte 0xff in position 0: invalid start byte\n",
      "test3.qasm\n",
      "14 14\n",
      "test11.qasm\n",
      "1075 1039\n",
      "Cannot include extern calls without a wasm module specified.\n",
      "File:/Users/seyon/tket/tket/pytket/tests/qasm_test_files/test17_output.qasm: \n",
      "Line:21. \n"
     ]
    }
   ],
   "source": [
    "for f in files:\n",
    "    test_file(f)"
   ]
  },
  {
   "cell_type": "code",
   "execution_count": null,
   "metadata": {},
   "outputs": [],
   "source": []
  }
 ],
 "metadata": {
  "kernelspec": {
   "display_name": "venv",
   "language": "python",
   "name": "python3"
  },
  "language_info": {
   "codemirror_mode": {
    "name": "ipython",
    "version": 3
   },
   "file_extension": ".py",
   "mimetype": "text/x-python",
   "name": "python",
   "nbconvert_exporter": "python",
   "pygments_lexer": "ipython3",
   "version": "3.10.12"
  },
  "orig_nbformat": 4
 },
 "nbformat": 4,
 "nbformat_minor": 2
}
