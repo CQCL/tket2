{
 "cells": [
  {
   "cell_type": "code",
   "execution_count": 1,
   "metadata": {},
   "outputs": [],
   "source": [
    "from dataclasses import dataclass\n",
    "from pyrs.pyrs import passes, to_hugr_dot, to_hugr, check_soundness\n",
    "from pytket.circuit import Circuit, OpType\n",
    "from pathlib import Path\n",
    "from pytket.qasm.qasm import circuit_from_qasm\n",
    "from pytket.passes.auto_rebase import auto_rebase_pass\n",
    "from pytket.passes import FlattenRelabelRegistersPass, RemoveRedundancies\n",
    "from pytket.utils.stats import gate_counts\n",
    "from pytket.utils.results import compare_unitaries\n",
    "import graphviz\n"
   ]
  },
  {
   "cell_type": "code",
   "execution_count": 2,
   "metadata": {},
   "outputs": [],
   "source": [
    "direc = Path.home() / \"tket/tket/pytket/tests/qasm_test_files/\"\n",
    "\n",
    "files = list(direc.iterdir())"
   ]
  },
  {
   "cell_type": "code",
   "execution_count": 7,
   "metadata": {},
   "outputs": [],
   "source": [
    "\n",
    "def view_dot(c: Circuit):\n",
    "    # print(to_hugr_dot(c))\n",
    "    display(graphviz.Source(to_hugr_dot(c)))\n",
    "\n",
    "\n",
    "def compare(c: Circuit, c2: Circuit) -> bool:\n",
    "    from pytket.extensions.qiskit import AerUnitaryBackend\n",
    "    b = AerUnitaryBackend()\n",
    "    (u, u2) = (b.run_circuit(circ).get_unitary() for circ in (c, c2))\n",
    "\n",
    "    res =  compare_unitaries(u, u2)\n",
    "    # if not res:\n",
    "    #     print(u)\n",
    "    #     print(u2)\n",
    "\n",
    "    return res"
   ]
  },
  {
   "cell_type": "code",
   "execution_count": 14,
   "metadata": {},
   "outputs": [],
   "source": [
    "def test_file(file: Path):\n",
    "    try:\n",
    "        c = circuit_from_qasm(file)\n",
    "    except Exception as e:\n",
    "        print(e)\n",
    "        return\n",
    "    try:\n",
    "        auto_rebase_pass({OpType.PhasedX, OpType.ZZPhase, OpType.Rz}).apply(c)\n",
    "    except RuntimeError as e:\n",
    "        if \"CustomGate\" in str(e):\n",
    "            return\n",
    "        else:\n",
    "            raise e\n",
    "\n",
    "    # tket2 expects simple register names for now\n",
    "    FlattenRelabelRegistersPass().apply(c)\n",
    "    RemoveRedundancies().apply(c)\n",
    "    print(f\"{file.name}\")\n",
    "    c2, moves = passes.greedy_depth_reduce(c)\n",
    "    assert (gc:=gate_counts(c)) == gate_counts(c2)\n",
    "    print(f\"{moves} {c.depth()} {c2.depth()}\")\n",
    "    if gc.get(OpType.Measure, 0) or c.free_symbols():\n",
    "        return\n",
    "\n",
    "    if 0<c.n_qubits < 9 and c.n_gates < 1000:\n",
    "        if not compare(c, c2):\n",
    "            print(\"unitary fail\")\n",
    "            for circ in (c, c2):\n",
    "                print(\"\\n\".join(map(str,circ.get_commands())))\n",
    "                print(\"\\n\")"
   ]
  },
  {
   "cell_type": "code",
   "execution_count": 15,
   "metadata": {},
   "outputs": [
    {
     "name": "stdout",
     "output_type": "stream",
     "text": [
      "test13.qasm\n",
      "22 23 21\n",
      "test1.qasm\n",
      "8 64 62\n",
      "Cannot include extern calls without a wasm module specified.\n",
      "File:/Users/seyon/tket/tket/pytket/tests/qasm_test_files/test18.qasm: \n",
      "Line:26. \n",
      "'utf-8' codec can't decode byte 0xff in position 0: invalid start byte\n",
      "test14.qasm\n",
      "60 228 216\n",
      "test15.qasm\n",
      "3 24 23\n",
      "test7.qasm\n",
      "2 8 7\n",
      "test19.qasm\n",
      "133 529 507\n",
      "zzphase.qasm\n",
      "0 1 1\n",
      "test8.qasm\n",
      "403 1745 1621\n",
      "test16.qasm\n",
      "0 0 0\n",
      "Cannot parse gate of type: gatedoesntexist\n",
      "File:/Users/seyon/tket/tket/pytket/tests/qasm_test_files/test4.qasm: \n",
      "Line:6. \n",
      "test6_output.qasm\n",
      "1 9 8\n",
      "Cannot include extern calls without a wasm module specified.\n",
      "File:/Users/seyon/tket/tket/pytket/tests/qasm_test_files/test18_output.qasm: \n",
      "Line:19. \n",
      "test5.qasm\n",
      "0 2 2\n",
      "Cannot include extern calls without a wasm module specified.\n",
      "File:/Users/seyon/tket/tket/pytket/tests/qasm_test_files/test17.qasm: \n",
      "Line:24. \n",
      "test9.qasm\n",
      "2 15 15\n",
      "test10.qasm\n",
      "1 10 10\n",
      "Circuit does not contain unit with id: q[4]\n",
      "'utf-8' codec can't decode byte 0xff in position 0: invalid start byte\n",
      "test3.qasm\n",
      "1 14 14\n",
      "test11.qasm\n",
      "273 1075 1039\n",
      "Cannot include extern calls without a wasm module specified.\n",
      "File:/Users/seyon/tket/tket/pytket/tests/qasm_test_files/test17_output.qasm: \n",
      "Line:21. \n"
     ]
    }
   ],
   "source": [
    "for f in files:\n",
    "    test_file(f)\n"
   ]
  },
  {
   "cell_type": "code",
   "execution_count": null,
   "metadata": {},
   "outputs": [],
   "source": []
  }
 ],
 "metadata": {
  "kernelspec": {
   "display_name": "venv",
   "language": "python",
   "name": "python3"
  },
  "language_info": {
   "codemirror_mode": {
    "name": "ipython",
    "version": 3
   },
   "file_extension": ".py",
   "mimetype": "text/x-python",
   "name": "python",
   "nbconvert_exporter": "python",
   "pygments_lexer": "ipython3",
   "version": "3.10.12"
  },
  "orig_nbformat": 4
 },
 "nbformat": 4,
 "nbformat_minor": 2
}
