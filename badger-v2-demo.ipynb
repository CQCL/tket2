{
 "cells": [
  {
   "cell_type": "code",
   "execution_count": 1,
   "metadata": {},
   "outputs": [],
   "source": [
    "import json\n",
    "from pytket import Circuit\n",
    "from pytket.circuit.display import render_circuit_jupyter"
   ]
  },
  {
   "cell_type": "markdown",
   "metadata": {},
   "source": [
    "### Load circuit"
   ]
  },
  {
   "cell_type": "code",
   "execution_count": 2,
   "metadata": {},
   "outputs": [
    {
     "data": {
      "text/html": [
       "\n",
       "\n",
       "\n",
       "\n",
       "\n",
       "\n",
       "<div style=\"resize: vertical; overflow: auto; height: 400px; display: block\">\n",
       "    <iframe srcdoc=\"\n",
       "&lt;!DOCTYPE html&gt;\n",
       "&lt;html lang=&#34;en&#34;&gt;\n",
       "&lt;head&gt;\n",
       "    &lt;meta charset=&#34;UTF-8&#34;&gt;\n",
       "    &lt;!-- Download Vue 3--&gt;\n",
       "&lt;script type=&#34;application/javascript&#34; src=&#34;https://cdn.jsdelivr.net/npm/vue@3&#34;&gt;&lt;/script&gt;\n",
       "&lt;!-- Download Circuit Renderer with styles --&gt;\n",
       "&lt;script type=&#34;application/javascript&#34; src=&#34;https://unpkg.com/pytket-circuit-renderer@0.9/dist/pytket-circuit-renderer.umd.js&#34;&gt;&lt;/script&gt;\n",
       "&lt;link rel=&#34;stylesheet&#34; href=&#34;https://unpkg.com/pytket-circuit-renderer@0.9/dist/pytket-circuit-renderer.css&#34;&gt;\n",
       "&lt;/head&gt;\n",
       "&lt;body&gt;\n",
       "\n",
       "\n",
       "\n",
       "    &lt;div id=&#34;circuit-display-vue-container-ba77725f-7a14-40f0-aea0-a06e85b9d409&#34; class=&#34;pytket-circuit-display-container&#34;&gt;\n",
       "        &lt;div style=&#34;display: none&#34;&gt;\n",
       "            &lt;div id=&#34;circuit-json-to-display&#34;&gt;{&#34;bits&#34;: [], &#34;commands&#34;: [{&#34;args&#34;: [[&#34;q&#34;, [0]], [&#34;q&#34;, [1]]], &#34;op&#34;: {&#34;type&#34;: &#34;CX&#34;}}, {&#34;args&#34;: [[&#34;q&#34;, [0]], [&#34;q&#34;, [1]]], &#34;op&#34;: {&#34;type&#34;: &#34;CX&#34;}}, {&#34;args&#34;: [[&#34;q&#34;, [1]], [&#34;q&#34;, [2]]], &#34;op&#34;: {&#34;type&#34;: &#34;CX&#34;}}, {&#34;args&#34;: [[&#34;q&#34;, [1]]], &#34;op&#34;: {&#34;type&#34;: &#34;T&#34;}}, {&#34;args&#34;: [[&#34;q&#34;, [2]]], &#34;op&#34;: {&#34;type&#34;: &#34;H&#34;}}, {&#34;args&#34;: [[&#34;q&#34;, [2]]], &#34;op&#34;: {&#34;type&#34;: &#34;T&#34;}}, {&#34;args&#34;: [[&#34;q&#34;, [2]]], &#34;op&#34;: {&#34;type&#34;: &#34;T&#34;}}, {&#34;args&#34;: [[&#34;q&#34;, [2]]], &#34;op&#34;: {&#34;type&#34;: &#34;T&#34;}}, {&#34;args&#34;: [[&#34;q&#34;, [2]]], &#34;op&#34;: {&#34;type&#34;: &#34;T&#34;}}, {&#34;args&#34;: [[&#34;q&#34;, [2]]], &#34;op&#34;: {&#34;type&#34;: &#34;H&#34;}}, {&#34;args&#34;: [[&#34;q&#34;, [1]], [&#34;q&#34;, [2]]], &#34;op&#34;: {&#34;type&#34;: &#34;CX&#34;}}], &#34;created_qubits&#34;: [], &#34;discarded_qubits&#34;: [], &#34;implicit_permutation&#34;: [[[&#34;q&#34;, [0]], [&#34;q&#34;, [0]]], [[&#34;q&#34;, [1]], [&#34;q&#34;, [1]]], [[&#34;q&#34;, [2]], [&#34;q&#34;, [2]]]], &#34;phase&#34;: &#34;0.0&#34;, &#34;qubits&#34;: [[&#34;q&#34;, [0]], [&#34;q&#34;, [1]], [&#34;q&#34;, [2]]]}&lt;/div&gt;\n",
       "        &lt;/div&gt;\n",
       "        &lt;circuit-display-container\n",
       "                :circuit-element-str=&#34;&#39;#circuit-json-to-display&#39;&#34;\n",
       "                :init-render-options=&#34;initRenderOptions&#34;\n",
       "        &gt;&lt;/circuit-display-container&gt;\n",
       "    &lt;/div&gt;\n",
       "    &lt;script type=&#34;application/javascript&#34;&gt;\n",
       "      const circuitRendererUid = &#34;ba77725f-7a14-40f0-aea0-a06e85b9d409&#34;;\n",
       "      const displayOptions = JSON.parse(&#39;{}&#39;);\n",
       "\n",
       "      // Script to initialise the circuit renderer app\n",
       "\n",
       "const { createApp } = Vue;\n",
       "const circuitDisplayContainer = window[&#34;pytket-circuit-renderer&#34;].default;\n",
       "// Init variables to be shared between circuit display instances\n",
       "if (typeof window.pytketCircuitDisplays === &#34;undefined&#34;) {\n",
       "    window.pytketCircuitDisplays = {};\n",
       "}\n",
       "// Create the root Vue component\n",
       "const app = createApp({\n",
       "    delimiters: [&#39;[[#&#39;, &#39;#]]&#39;],\n",
       "    components: { circuitDisplayContainer },\n",
       "    data () {\n",
       "      return {\n",
       "        initRenderOptions: displayOptions,\n",
       "      }\n",
       "    }\n",
       "})\n",
       "app.config.unwrapInjectedRef = true;\n",
       "app.mount(&#34;#circuit-display-vue-container-&#34;+circuitRendererUid);\n",
       "window.pytketCircuitDisplays[circuitRendererUid] = app;\n",
       "    &lt;/script&gt;\n",
       "\n",
       "\n",
       "\n",
       "&lt;/body&gt;\n",
       "&lt;/html&gt;\n",
       "\"\n",
       "            width=\"100%\" height=\"100%\"\n",
       "            style=\"border: none; outline: none; overflow: auto\"></iframe>\n",
       "</div>\n",
       "\n"
      ],
      "text/plain": [
       "<IPython.core.display.HTML object>"
      ]
     },
     "metadata": {},
     "output_type": "display_data"
    }
   ],
   "source": [
    "with open('test_files/demo_circ.json', 'r') as f:\n",
    "    data = json.load(f)\n",
    "\n",
    "circuit = Circuit.from_dict(data)\n",
    "render_circuit_jupyter(circuit)"
   ]
  },
  {
   "cell_type": "markdown",
   "metadata": {},
   "source": [
    "### Load precompiled Circuit Rewriter"
   ]
  },
  {
   "cell_type": "code",
   "execution_count": 3,
   "metadata": {},
   "outputs": [],
   "source": [
    "from tket2.optimiser import BadgerOptimiser\n",
    "opt = BadgerOptimiser.load_precompiled('matcher.rwr')"
   ]
  },
  {
   "cell_type": "markdown",
   "metadata": {},
   "source": [
    "### Explore the rewrite space"
   ]
  },
  {
   "cell_type": "code",
   "execution_count": 4,
   "metadata": {},
   "outputs": [],
   "source": [
    "all_rewrites = opt.run_portdiff(circuit, timeout=10)"
   ]
  },
  {
   "cell_type": "code",
   "execution_count": 5,
   "metadata": {},
   "outputs": [
    {
     "data": {
      "text/html": [
       "\n",
       "        <iframe\n",
       "            width=\"700\"\n",
       "            height=\"400\"\n",
       "            src=\"http://luca.mondada.net/portdiff?data=%7B%22sinks%22%3A%5B3%2C2%2C0%2C1%5D%2C%22all_nodes%22%3A%5B%7B%22value%22%3A%7B%22graph%22%3A%7B%22qubit_ops%22%3A%5B%5B11%2C0%2C1%5D%2C%5B11%2C0%2C1%2C2%2C9%2C10%5D%2C%5B11%2C2%2C3%2C4%2C5%2C6%2C7%2C8%2C10%5D%5D%2C%22all_ops%22%3A%5B%7B%22op%22%3A%22CX%22%2C%22positions%22%3A%5B%7B%22qubit%22%3A0%2C%22index%22%3A1%7D%2C%7B%22qubit%22%3A1%2C%22index%22%3A1%7D%5D%7D%2C%7B%22op%22%3A%22CX%22%2C%22positions%22%3A%5B%7B%22qubit%22%3A0%2C%22index%22%3A2%7D%2C%7B%22qubit%22%3A1%2C%22index%22%3A2%7D%5D%7D%2C%7B%22op%22%3A%22CX%22%2C%22positions%22%3A%5B%7B%22qubit%22%3A1%2C%22index%22%3A3%7D%2C%7B%22qubit%22%3A2%2C%22index%22%3A1%7D%5D%7D%2C%7B%22op%22%3A%22H%22%2C%22positions%22%3A%5B%7B%22qubit%22%3A2%2C%22index%22%3A2%7D%5D%7D%2C%7B%22op%22%3A%22T%22%2C%22positions%22%3A%5B%7B%22qubit%22%3A2%2C%22index%22%3A3%7D%5D%7D%2C%7B%22op%22%3A%22T%22%2C%22positions%22%3A%5B%7B%22qubit%22%3A2%2C%22index%22%3A4%7D%5D%7D%2C%7B%22op%22%3A%22T%22%2C%22positions%22%3A%5B%7B%22qubit%22%3A2%2C%22index%22%3A5%7D%5D%7D%2C%7B%22op%22%3A%22T%22%2C%22positions%22%3A%5B%7B%22qubit%22%3A2%2C%22index%22%3A6%7D%5D%7D%2C%7B%22op%22%3A%22H%22%2C%22positions%22%3A%5B%7B%22qubit%22%3A2%2C%22index%22%3A7%7D%5D%7D%2C%7B%22op%22%3A%22T%22%2C%22positions%22%3A%5B%7B%22qubit%22%3A1%2C%22index%22%3A4%7D%5D%7D%2C%7B%22op%22%3A%22CX%22%2C%22positions%22%3A%5B%7B%22qubit%22%3A1%2C%22index%22%3A5%7D%2C%7B%22qubit%22%3A2%2C%22index%22%3A8%7D%5D%7D%2C%7B%22op%22%3A%22QAlloc%22%2C%22positions%22%3A%5B%7B%22qubit%22%3A0%2C%22index%22%3A0%7D%2C%7B%22qubit%22%3A1%2C%22index%22%3A0%7D%2C%7B%22qubit%22%3A2%2C%22index%22%3A0%7D%5D%7D%5D%7D%2C%22boundary%22%3A%5B%5D%2C%22value%22%3A0%7D%2C%22incoming%22%3A%5B%5D%7D%2C%7B%22value%22%3A%7B%22graph%22%3A%7B%22qubit_ops%22%3A%5B%5D%2C%22all_ops%22%3A%5B%5D%7D%2C%22boundary%22%3A%5B%5B%7B%22Wire%22%3A%7B%22id%22%3A0%2C%22end%22%3A%22Right%22%7D%7D%2C0%5D%2C%5B%7B%22Wire%22%3A%7B%22id%22%3A1%2C%22end%22%3A%22Right%22%7D%7D%2C0%5D%2C%5B%7B%22Wire%22%3A%7B%22id%22%3A1%2C%22end%22%3A%22Left%22%7D%7D%2C0%5D%5D%2C%22value%22%3A2%7D%2C%22incoming%22%3A%5B%7B%22source%22%3A0%2C%22value%22%3A%7B%22subgraph%22%3A%7B%22nodes%22%3A%5B0%2C1%5D%2C%22edges%22%3A%5B%7B%22source%22%3A0%2C%22out_port%22%3A%7B%22index%22%3A0%7D%7D%2C%7B%22source%22%3A0%2C%22out_port%22%3A%7B%22index%22%3A1%7D%7D%5D%7D%2C%22port_map%22%3A%5B%5B%7B%22Bound%22%3A%7B%22edge%22%3A%7B%22source%22%3A1%2C%22out_port%22%3A%7B%22index%22%3A1%7D%7D%2C%22end%22%3A%22Left%22%7D%7D%2C2%5D%2C%5B%7B%22Bound%22%3A%7B%22edge%22%3A%7B%22source%22%3A11%2C%22out_port%22%3A%7B%22index%22%3A0%7D%7D%2C%22end%22%3A%22Right%22%7D%7D%2C0%5D%2C%5B%7B%22Bound%22%3A%7B%22edge%22%3A%7B%22source%22%3A11%2C%22out_port%22%3A%7B%22index%22%3A1%7D%7D%2C%22end%22%3A%22Right%22%7D%7D%2C1%5D%5D%7D%7D%5D%7D%2C%7B%22value%22%3A%7B%22graph%22%3A%7B%22qubit_ops%22%3A%5B%5B1%5D%2C%5B2%2C3%2C4%2C5%2C6%2C7%2C0%5D%5D%2C%22all_ops%22%3A%5B%7B%22op%22%3A%22X%22%2C%22positions%22%3A%5B%7B%22qubit%22%3A1%2C%22index%22%3A6%7D%5D%7D%2C%7B%22op%22%3A%22T%22%2C%22positions%22%3A%5B%7B%22qubit%22%3A0%2C%22index%22%3A0%7D%5D%7D%2C%7B%22op%22%3A%22H%22%2C%22positions%22%3A%5B%7B%22qubit%22%3A1%2C%22index%22%3A0%7D%5D%7D%2C%7B%22op%22%3A%22T%22%2C%22positions%22%3A%5B%7B%22qubit%22%3A1%2C%22index%22%3A1%7D%5D%7D%2C%7B%22op%22%3A%22H%22%2C%22positions%22%3A%5B%7B%22qubit%22%3A1%2C%22index%22%3A2%7D%5D%7D%2C%7B%22op%22%3A%22H%22%2C%22positions%22%3A%5B%7B%22qubit%22%3A1%2C%22index%22%3A3%7D%5D%7D%2C%7B%22op%22%3A%22Tdg%22%2C%22positions%22%3A%5B%7B%22qubit%22%3A1%2C%22index%22%3A4%7D%5D%7D%2C%7B%22op%22%3A%22H%22%2C%22positions%22%3A%5B%7B%22qubit%22%3A1%2C%22index%22%3A5%7D%5D%7D%5D%7D%2C%22boundary%22%3A%5B%5B%7B%22Site%22%3A%7B%22node%22%3A1%2C%22port%22%3A%7B%22Incoming%22%3A0%7D%7D%7D%2C1%5D%2C%5B%7B%22Site%22%3A%7B%22node%22%3A2%2C%22port%22%3A%7B%22Incoming%22%3A0%7D%7D%7D%2C1%5D%5D%2C%22value%22%3A2%7D%2C%22incoming%22%3A%5B%7B%22source%22%3A0%2C%22value%22%3A%7B%22subgraph%22%3A%7B%22nodes%22%3A%5B9%2C10%5D%2C%22edges%22%3A%5B%7B%22source%22%3A9%2C%22out_port%22%3A%7B%22index%22%3A0%7D%7D%5D%7D%2C%22port_map%22%3A%5B%5D%7D%7D%2C%7B%22source%22%3A0%2C%22value%22%3A%7B%22subgraph%22%3A%7B%22nodes%22%3A%5B2%2C3%2C4%5D%2C%22edges%22%3A%5B%7B%22source%22%3A2%2C%22out_port%22%3A%7B%22index%22%3A1%7D%7D%2C%7B%22source%22%3A3%2C%22out_port%22%3A%7B%22index%22%3A0%7D%7D%5D%7D%2C%22port_map%22%3A%5B%5B%7B%22Bound%22%3A%7B%22edge%22%3A%7B%22source%22%3A1%2C%22out_port%22%3A%7B%22index%22%3A1%7D%7D%2C%22end%22%3A%22Right%22%7D%7D%2C0%5D%2C%5B%7B%22Bound%22%3A%7B%22edge%22%3A%7B%22source%22%3A11%2C%22out_port%22%3A%7B%22index%22%3A2%7D%7D%2C%22end%22%3A%22Right%22%7D%7D%2C1%5D%5D%7D%7D%2C%7B%22source%22%3A0%2C%22value%22%3A%7B%22subgraph%22%3A%7B%22nodes%22%3A%5B5%2C6%2C7%2C8%5D%2C%22edges%22%3A%5B%7B%22source%22%3A5%2C%22out_port%22%3A%7B%22index%22%3A0%7D%7D%2C%7B%22source%22%3A6%2C%22out_port%22%3A%7B%22index%22%3A0%7D%7D%2C%7B%22source%22%3A7%2C%22out_port%22%3A%7B%22index%22%3A0%7D%7D%5D%7D%2C%22port_map%22%3A%5B%5D%7D%7D%5D%7D%2C%7B%22value%22%3A%7B%22graph%22%3A%7B%22qubit_ops%22%3A%5B%5B1%2C0%5D%2C%5B5%5D%2C%5B5%2C2%2C3%2C4%5D%5D%2C%22all_ops%22%3A%5B%7B%22op%22%3A%22X%22%2C%22positions%22%3A%5B%7B%22qubit%22%3A0%2C%22index%22%3A1%7D%5D%7D%2C%7B%22op%22%3A%22X%22%2C%22positions%22%3A%5B%7B%22qubit%22%3A0%2C%22index%22%3A0%7D%5D%7D%2C%7B%22op%22%3A%22X%22%2C%22positions%22%3A%5B%7B%22qubit%22%3A2%2C%22index%22%3A1%7D%5D%7D%2C%7B%22op%22%3A%22H%22%2C%22positions%22%3A%5B%7B%22qubit%22%3A2%2C%22index%22%3A2%7D%5D%7D%2C%7B%22op%22%3A%22Tdg%22%2C%22positions%22%3A%5B%7B%22qubit%22%3A2%2C%22index%22%3A3%7D%5D%7D%2C%7B%22op%22%3A%22CX%22%2C%22positions%22%3A%5B%7B%22qubit%22%3A1%2C%22index%22%3A0%7D%2C%7B%22qubit%22%3A2%2C%22index%22%3A0%7D%5D%7D%5D%7D%2C%22boundary%22%3A%5B%5B%7B%22Site%22%3A%7B%22node%22%3A1%2C%22port%22%3A%7B%22Incoming%22%3A0%7D%7D%7D%2C2%5D%2C%5B%7B%22Site%22%3A%7B%22node%22%3A4%2C%22port%22%3A%7B%22Outgoing%22%3A0%7D%7D%7D%2C1%5D%2C%5B%7B%22Site%22%3A%7B%22node%22%3A5%2C%22port%22%3A%7B%22Incoming%22%3A0%7D%7D%7D%2C2%5D%2C%5B%7B%22Site%22%3A%7B%22node%22%3A5%2C%22port%22%3A%7B%22Outgoing%22%3A0%7D%7D%7D%2C0%5D%2C%5B%7B%22Site%22%3A%7B%22node%22%3A5%2C%22port%22%3A%7B%22Incoming%22%3A1%7D%7D%7D%2C0%5D%5D%2C%22value%22%3A1%7D%2C%22incoming%22%3A%5B%7B%22source%22%3A0%2C%22value%22%3A%7B%22subgraph%22%3A%7B%22nodes%22%3A%5B1%2C2%5D%2C%22edges%22%3A%5B%7B%22source%22%3A1%2C%22out_port%22%3A%7B%22index%22%3A1%7D%7D%5D%7D%2C%22port_map%22%3A%5B%5B%7B%22Bound%22%3A%7B%22edge%22%3A%7B%22source%22%3A2%2C%22out_port%22%3A%7B%22index%22%3A0%7D%7D%2C%22end%22%3A%22Left%22%7D%7D%2C3%5D%2C%5B%7B%22Bound%22%3A%7B%22edge%22%3A%7B%22source%22%3A11%2C%22out_port%22%3A%7B%22index%22%3A2%7D%7D%2C%22end%22%3A%22Right%22%7D%7D%2C4%5D%5D%7D%7D%2C%7B%22source%22%3A0%2C%22value%22%3A%7B%22subgraph%22%3A%7B%22nodes%22%3A%5B3%2C4%2C5%2C6%5D%2C%22edges%22%3A%5B%7B%22source%22%3A3%2C%22out_port%22%3A%7B%22index%22%3A0%7D%7D%2C%7B%22source%22%3A4%2C%22out_port%22%3A%7B%22index%22%3A0%7D%7D%2C%7B%22source%22%3A5%2C%22out_port%22%3A%7B%22index%22%3A0%7D%7D%5D%7D%2C%22port_map%22%3A%5B%5B%7B%22Bound%22%3A%7B%22edge%22%3A%7B%22source%22%3A6%2C%22out_port%22%3A%7B%22index%22%3A0%7D%7D%2C%22end%22%3A%22Left%22%7D%7D%2C1%5D%5D%7D%7D%2C%7B%22source%22%3A0%2C%22value%22%3A%7B%22subgraph%22%3A%7B%22nodes%22%3A%5B0%5D%2C%22edges%22%3A%5B%5D%7D%2C%22port_map%22%3A%5B%5B%7B%22Bound%22%3A%7B%22edge%22%3A%7B%22source%22%3A11%2C%22out_port%22%3A%7B%22index%22%3A0%7D%7D%2C%22end%22%3A%22Right%22%7D%7D%2C0%5D%2C%5B%7B%22Bound%22%3A%7B%22edge%22%3A%7B%22source%22%3A11%2C%22out_port%22%3A%7B%22index%22%3A1%7D%7D%2C%22end%22%3A%22Right%22%7D%7D%2C2%5D%5D%7D%7D%5D%7D%5D%7D&type=tket\"\n",
       "            frameborder=\"0\"\n",
       "            allowfullscreen\n",
       "            \n",
       "        ></iframe>\n",
       "        "
      ],
      "text/plain": [
       "<IPython.lib.display.IFrame at 0x12c43cfb0>"
      ]
     },
     "metadata": {},
     "output_type": "display_data"
    }
   ],
   "source": [
    "all_rewrites.render_jupyter()"
   ]
  },
  {
   "cell_type": "markdown",
   "metadata": {},
   "source": [
    "### Find the best rewrites using SAT"
   ]
  },
  {
   "cell_type": "code",
   "execution_count": 6,
   "metadata": {},
   "outputs": [
    {
     "name": "stdout",
     "output_type": "stream",
     "text": [
      "(declare-fun rw_3 () Bool)\n",
      "(declare-fun rw_2 () Bool)\n",
      "(declare-fun rw_1 () Bool)\n",
      "(declare-fun rw_0 () Bool)\n",
      "(assert (or rw_0 rw_1 rw_2 rw_3))\n",
      "(assert (=> rw_1 rw_0))\n",
      "(assert (not (and rw_1 rw_3)))\n",
      "(assert (not (and rw_1 rw_3)))\n",
      "(assert (=> rw_2 rw_0))\n",
      "(assert (=> rw_2 rw_0))\n",
      "(assert (not (and rw_2 rw_3)))\n",
      "(assert (not (and rw_2 rw_3)))\n",
      "(assert (=> rw_2 rw_0))\n",
      "(assert (not (and rw_2 rw_3)))\n",
      "(assert (=> rw_3 rw_0))\n",
      "(assert (=> rw_3 rw_0))\n",
      "(assert (=> rw_3 rw_0))\n",
      "(assert-soft rw_1 :weight 2)\n",
      "(assert-soft rw_2 :weight 2)\n",
      "(assert-soft rw_3 :weight 1)\n",
      "(check-sat)\n",
      "\n"
     ]
    }
   ],
   "source": [
    "from tket2.optimiser import construct_z3_optimiser\n",
    "\n",
    "sat_problem = construct_z3_optimiser(all_rewrites, [])\n",
    "print(sat_problem)"
   ]
  },
  {
   "cell_type": "code",
   "execution_count": 7,
   "metadata": {},
   "outputs": [
    {
     "data": {
      "text/html": [
       "<b>sat</b>"
      ],
      "text/plain": [
       "sat"
      ]
     },
     "execution_count": 7,
     "metadata": {},
     "output_type": "execute_result"
    }
   ],
   "source": [
    "sat_problem.check()"
   ]
  },
  {
   "cell_type": "code",
   "execution_count": 8,
   "metadata": {},
   "outputs": [
    {
     "data": {
      "text/html": [
       "[rw_0 = True, rw_1 = True, rw_2 = True, rw_3 = False]"
      ],
      "text/plain": [
       "[rw_0 = True, rw_1 = True, rw_2 = True, rw_3 = False]"
      ]
     },
     "execution_count": 8,
     "metadata": {},
     "output_type": "execute_result"
    }
   ],
   "source": [
    "model = sat_problem.model()\n",
    "model"
   ]
  },
  {
   "cell_type": "markdown",
   "metadata": {},
   "source": [
    "### Extract the optimised circuit"
   ]
  },
  {
   "cell_type": "code",
   "execution_count": 9,
   "metadata": {},
   "outputs": [
    {
     "data": {
      "text/html": [
       "\n",
       "\n",
       "\n",
       "\n",
       "\n",
       "\n",
       "<div style=\"resize: vertical; overflow: auto; height: 400px; display: block\">\n",
       "    <iframe srcdoc=\"\n",
       "&lt;!DOCTYPE html&gt;\n",
       "&lt;html lang=&#34;en&#34;&gt;\n",
       "&lt;head&gt;\n",
       "    &lt;meta charset=&#34;UTF-8&#34;&gt;\n",
       "    &lt;!-- Download Vue 3--&gt;\n",
       "&lt;script type=&#34;application/javascript&#34; src=&#34;https://cdn.jsdelivr.net/npm/vue@3&#34;&gt;&lt;/script&gt;\n",
       "&lt;!-- Download Circuit Renderer with styles --&gt;\n",
       "&lt;script type=&#34;application/javascript&#34; src=&#34;https://unpkg.com/pytket-circuit-renderer@0.9/dist/pytket-circuit-renderer.umd.js&#34;&gt;&lt;/script&gt;\n",
       "&lt;link rel=&#34;stylesheet&#34; href=&#34;https://unpkg.com/pytket-circuit-renderer@0.9/dist/pytket-circuit-renderer.css&#34;&gt;\n",
       "&lt;/head&gt;\n",
       "&lt;body&gt;\n",
       "\n",
       "\n",
       "\n",
       "    &lt;div id=&#34;circuit-display-vue-container-5bb4bc97-0cab-45e5-ad5b-4d87e4d9f692&#34; class=&#34;pytket-circuit-display-container&#34;&gt;\n",
       "        &lt;div style=&#34;display: none&#34;&gt;\n",
       "            &lt;div id=&#34;circuit-json-to-display&#34;&gt;{&#34;bits&#34;: [], &#34;commands&#34;: [{&#34;args&#34;: [[&#34;q&#34;, [1]]], &#34;op&#34;: {&#34;type&#34;: &#34;T&#34;}}, {&#34;args&#34;: [[&#34;q&#34;, [2]]], &#34;op&#34;: {&#34;type&#34;: &#34;H&#34;}}, {&#34;args&#34;: [[&#34;q&#34;, [2]]], &#34;op&#34;: {&#34;type&#34;: &#34;T&#34;}}, {&#34;args&#34;: [[&#34;q&#34;, [2]]], &#34;op&#34;: {&#34;type&#34;: &#34;H&#34;}}, {&#34;args&#34;: [[&#34;q&#34;, [2]]], &#34;op&#34;: {&#34;type&#34;: &#34;H&#34;}}, {&#34;args&#34;: [[&#34;q&#34;, [2]]], &#34;op&#34;: {&#34;type&#34;: &#34;Tdg&#34;}}, {&#34;args&#34;: [[&#34;q&#34;, [2]]], &#34;op&#34;: {&#34;type&#34;: &#34;H&#34;}}, {&#34;args&#34;: [[&#34;q&#34;, [2]]], &#34;op&#34;: {&#34;type&#34;: &#34;X&#34;}}], &#34;created_qubits&#34;: [], &#34;discarded_qubits&#34;: [], &#34;implicit_permutation&#34;: [[[&#34;q&#34;, [0]], [&#34;q&#34;, [0]]], [[&#34;q&#34;, [1]], [&#34;q&#34;, [1]]], [[&#34;q&#34;, [2]], [&#34;q&#34;, [2]]]], &#34;phase&#34;: &#34;0.0&#34;, &#34;qubits&#34;: [[&#34;q&#34;, [0]], [&#34;q&#34;, [1]], [&#34;q&#34;, [2]]]}&lt;/div&gt;\n",
       "        &lt;/div&gt;\n",
       "        &lt;circuit-display-container\n",
       "                :circuit-element-str=&#34;&#39;#circuit-json-to-display&#39;&#34;\n",
       "                :init-render-options=&#34;initRenderOptions&#34;\n",
       "        &gt;&lt;/circuit-display-container&gt;\n",
       "    &lt;/div&gt;\n",
       "    &lt;script type=&#34;application/javascript&#34;&gt;\n",
       "      const circuitRendererUid = &#34;5bb4bc97-0cab-45e5-ad5b-4d87e4d9f692&#34;;\n",
       "      const displayOptions = JSON.parse(&#39;{}&#39;);\n",
       "\n",
       "      // Script to initialise the circuit renderer app\n",
       "\n",
       "const { createApp } = Vue;\n",
       "const circuitDisplayContainer = window[&#34;pytket-circuit-renderer&#34;].default;\n",
       "// Init variables to be shared between circuit display instances\n",
       "if (typeof window.pytketCircuitDisplays === &#34;undefined&#34;) {\n",
       "    window.pytketCircuitDisplays = {};\n",
       "}\n",
       "// Create the root Vue component\n",
       "const app = createApp({\n",
       "    delimiters: [&#39;[[#&#39;, &#39;#]]&#39;],\n",
       "    components: { circuitDisplayContainer },\n",
       "    data () {\n",
       "      return {\n",
       "        initRenderOptions: displayOptions,\n",
       "      }\n",
       "    }\n",
       "})\n",
       "app.config.unwrapInjectedRef = true;\n",
       "app.mount(&#34;#circuit-display-vue-container-&#34;+circuitRendererUid);\n",
       "window.pytketCircuitDisplays[circuitRendererUid] = app;\n",
       "    &lt;/script&gt;\n",
       "\n",
       "\n",
       "\n",
       "&lt;/body&gt;\n",
       "&lt;/html&gt;\n",
       "\"\n",
       "            width=\"100%\" height=\"100%\"\n",
       "            style=\"border: none; outline: none; overflow: auto\"></iframe>\n",
       "</div>\n",
       "\n"
      ],
      "text/plain": [
       "<IPython.core.display.HTML object>"
      ]
     },
     "metadata": {},
     "output_type": "display_data"
    }
   ],
   "source": [
    "selected = [i for (i, b) in enumerate(model) if model[b]]\n",
    "opt_circuit = all_rewrites.extract_circuit(selected)\n",
    "\n",
    "render_circuit_jupyter(opt_circuit.to_tket1())"
   ]
  },
  {
   "cell_type": "markdown",
   "metadata": {},
   "source": [
    "## Or end-to-end in one compiler pass:"
   ]
  },
  {
   "cell_type": "code",
   "execution_count": 10,
   "metadata": {},
   "outputs": [
    {
     "data": {
      "text/html": [
       "\n",
       "\n",
       "\n",
       "\n",
       "\n",
       "\n",
       "<div style=\"resize: vertical; overflow: auto; height: 400px; display: block\">\n",
       "    <iframe srcdoc=\"\n",
       "&lt;!DOCTYPE html&gt;\n",
       "&lt;html lang=&#34;en&#34;&gt;\n",
       "&lt;head&gt;\n",
       "    &lt;meta charset=&#34;UTF-8&#34;&gt;\n",
       "    &lt;!-- Download Vue 3--&gt;\n",
       "&lt;script type=&#34;application/javascript&#34; src=&#34;https://cdn.jsdelivr.net/npm/vue@3&#34;&gt;&lt;/script&gt;\n",
       "&lt;!-- Download Circuit Renderer with styles --&gt;\n",
       "&lt;script type=&#34;application/javascript&#34; src=&#34;https://unpkg.com/pytket-circuit-renderer@0.9/dist/pytket-circuit-renderer.umd.js&#34;&gt;&lt;/script&gt;\n",
       "&lt;link rel=&#34;stylesheet&#34; href=&#34;https://unpkg.com/pytket-circuit-renderer@0.9/dist/pytket-circuit-renderer.css&#34;&gt;\n",
       "&lt;/head&gt;\n",
       "&lt;body&gt;\n",
       "\n",
       "\n",
       "\n",
       "    &lt;div id=&#34;circuit-display-vue-container-78122389-b585-43a2-bff2-fd2dfffa3cf9&#34; class=&#34;pytket-circuit-display-container&#34;&gt;\n",
       "        &lt;div style=&#34;display: none&#34;&gt;\n",
       "            &lt;div id=&#34;circuit-json-to-display&#34;&gt;{&#34;bits&#34;: [], &#34;commands&#34;: [{&#34;args&#34;: [[&#34;q&#34;, [1]], [&#34;q&#34;, [2]]], &#34;op&#34;: {&#34;type&#34;: &#34;CX&#34;}}, {&#34;args&#34;: [[&#34;q&#34;, [1]]], &#34;op&#34;: {&#34;type&#34;: &#34;T&#34;}}, {&#34;args&#34;: [[&#34;q&#34;, [2]]], &#34;op&#34;: {&#34;type&#34;: &#34;H&#34;}}, {&#34;args&#34;: [[&#34;q&#34;, [2]]], &#34;op&#34;: {&#34;type&#34;: &#34;T&#34;}}, {&#34;args&#34;: [[&#34;q&#34;, [2]]], &#34;op&#34;: {&#34;type&#34;: &#34;T&#34;}}, {&#34;args&#34;: [[&#34;q&#34;, [2]]], &#34;op&#34;: {&#34;type&#34;: &#34;T&#34;}}, {&#34;args&#34;: [[&#34;q&#34;, [2]]], &#34;op&#34;: {&#34;type&#34;: &#34;T&#34;}}, {&#34;args&#34;: [[&#34;q&#34;, [2]]], &#34;op&#34;: {&#34;type&#34;: &#34;H&#34;}}, {&#34;args&#34;: [[&#34;q&#34;, [1]], [&#34;q&#34;, [2]]], &#34;op&#34;: {&#34;type&#34;: &#34;CX&#34;}}], &#34;created_qubits&#34;: [], &#34;discarded_qubits&#34;: [], &#34;implicit_permutation&#34;: [[[&#34;q&#34;, [0]], [&#34;q&#34;, [0]]], [[&#34;q&#34;, [1]], [&#34;q&#34;, [1]]], [[&#34;q&#34;, [2]], [&#34;q&#34;, [2]]]], &#34;phase&#34;: &#34;0.0&#34;, &#34;qubits&#34;: [[&#34;q&#34;, [0]], [&#34;q&#34;, [1]], [&#34;q&#34;, [2]]]}&lt;/div&gt;\n",
       "        &lt;/div&gt;\n",
       "        &lt;circuit-display-container\n",
       "                :circuit-element-str=&#34;&#39;#circuit-json-to-display&#39;&#34;\n",
       "                :init-render-options=&#34;initRenderOptions&#34;\n",
       "        &gt;&lt;/circuit-display-container&gt;\n",
       "    &lt;/div&gt;\n",
       "    &lt;script type=&#34;application/javascript&#34;&gt;\n",
       "      const circuitRendererUid = &#34;78122389-b585-43a2-bff2-fd2dfffa3cf9&#34;;\n",
       "      const displayOptions = JSON.parse(&#39;{}&#39;);\n",
       "\n",
       "      // Script to initialise the circuit renderer app\n",
       "\n",
       "const { createApp } = Vue;\n",
       "const circuitDisplayContainer = window[&#34;pytket-circuit-renderer&#34;].default;\n",
       "// Init variables to be shared between circuit display instances\n",
       "if (typeof window.pytketCircuitDisplays === &#34;undefined&#34;) {\n",
       "    window.pytketCircuitDisplays = {};\n",
       "}\n",
       "// Create the root Vue component\n",
       "const app = createApp({\n",
       "    delimiters: [&#39;[[#&#39;, &#39;#]]&#39;],\n",
       "    components: { circuitDisplayContainer },\n",
       "    data () {\n",
       "      return {\n",
       "        initRenderOptions: displayOptions,\n",
       "      }\n",
       "    }\n",
       "})\n",
       "app.config.unwrapInjectedRef = true;\n",
       "app.mount(&#34;#circuit-display-vue-container-&#34;+circuitRendererUid);\n",
       "window.pytketCircuitDisplays[circuitRendererUid] = app;\n",
       "    &lt;/script&gt;\n",
       "\n",
       "\n",
       "\n",
       "&lt;/body&gt;\n",
       "&lt;/html&gt;\n",
       "\"\n",
       "            width=\"100%\" height=\"100%\"\n",
       "            style=\"border: none; outline: none; overflow: auto\"></iframe>\n",
       "</div>\n",
       "\n"
      ],
      "text/plain": [
       "<IPython.core.display.HTML object>"
      ]
     },
     "metadata": {},
     "output_type": "display_data"
    }
   ],
   "source": [
    "from tket2.passes import badger_pass\n",
    "\n",
    "p = badger_pass(rewriter=\"matcher.rwr\", timeout=1)\n",
    "\n",
    "p.apply(circuit)\n",
    "render_circuit_jupyter(circuit)"
   ]
  },
  {
   "cell_type": "code",
   "execution_count": null,
   "metadata": {},
   "outputs": [],
   "source": []
  }
 ],
 "metadata": {
  "kernelspec": {
   "display_name": "venv",
   "language": "python",
   "name": "python3"
  },
  "language_info": {
   "codemirror_mode": {
    "name": "ipython",
    "version": 3
   },
   "file_extension": ".py",
   "mimetype": "text/x-python",
   "name": "python",
   "nbconvert_exporter": "python",
   "pygments_lexer": "ipython3",
   "version": "3.12.2"
  }
 },
 "nbformat": 4,
 "nbformat_minor": 2
}
