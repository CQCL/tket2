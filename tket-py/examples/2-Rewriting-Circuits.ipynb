{
 "cells": [
  {
   "cell_type": "markdown",
   "metadata": {},
   "source": [
    "# Manually rewriting tket2 circuits\n",
    "\n",
    "Tket2 includes a rewrite engine based on pattern matching and replacement. This allows for the application of a sequence of rewrite rules to a circuit, which can be used to simplify or optimize the circuit. In this notebook, we will demonstrate how to use this feature to rewrite circuits."
   ]
  },
  {
   "cell_type": "code",
   "execution_count": 4,
   "metadata": {},
   "outputs": [],
   "source": [
    "import itertools\n",
    "import copy\n",
    "\n",
    "from tket.circuit import Tk2Circuit\n",
    "from tket.circuit.build import H, from_coms, CX, PauliX, PauliY, PauliZ, id_circ\n",
    "from tket.pattern import Rule, RuleMatcher\n",
    "    \n",
    "from pytket import Circuit as Tk1Circuit\n",
    "from pytket.circuit.display import render_circuit_jupyter\n",
    "\n",
    "from guppylang import guppy\n",
    "from guppylang.module import GuppyModule\n",
    "from guppylang.std import quantum\n",
    "from guppylang.std.quantum import qubit, cx, rz#, zz_phase\n",
    "from guppylang.std.qsystem import zz_phase\n",
    "from guppylang.std.angles import angle\n",
    "from guppylang.std.builtins import owned\n",
    "\n",
    "# We define a utility function to convert a GuppyModule to a Tk2Circuit.\n",
    "# This will be included with guppy in the future.\n",
    "from utils import guppy_to_circuit # type: ignore"
   ]
  },
  {
   "cell_type": "markdown",
   "metadata": {},
   "source": [
    "### Applying simple rewrite rules\n",
    "\n",
    "In the following example, we will define a couple simplification rules and apply them to a circuit. The rules are:\n",
    "\n",
    "1. A sequence of `CX` - `Rz` - `CX` gates can be replaced by a single `ZZPhase`\n",
    "2. A `ZZPhase(0.5)` gate can be replaced with a single `CX` and some single-qubit gates\n",
    "\n",
    "Let's define these rules first."
   ]
  },
  {
   "cell_type": "code",
   "execution_count": null,
   "metadata": {},
   "outputs": [
    {
     "data": {
      "text/plain": [
       "(<Tk2Circuit at 0x1188edfa0>, <Tk2Circuit at 0x11ff91d00>)"
      ]
     },
     "execution_count": 5,
     "metadata": {},
     "output_type": "execute_result"
    }
   ],
   "source": [
    "# Note: Most of this boilerplate will be removed in the future.\n",
    "\n",
    "# First we define the pattern we want to match, as a Guppy function\n",
    "@guppy\n",
    "def cnots_to_zzphase_lhs(q0: qubit @owned, q1: qubit @owned, angle: angle) -> tuple[qubit, qubit]:\n",
    "    cx(q0, q1)\n",
    "    rz(q1, angle)\n",
    "    cx(q0, q1)\n",
    "    return (q0, q1)\n",
    "cnots_to_zzphase_lhs = guppy_to_circuit(cnots_to_zzphase_lhs)\n",
    "\n",
    "# Then we define the replacement circuit\n",
    "@guppy\n",
    "def cnots_to_zzphase_rhs(q0: qubit @owned, q1: qubit @owned, angle: angle) -> tuple[qubit, qubit]:\n",
    "    zz_phase(q0, q1, angle)\n",
    "    return (q0, q1)\n",
    "cnots_to_zzphase_rhs = guppy_to_circuit(cnots_to_zzphase_rhs)\n",
    "\n",
    "cnots_to_zzphase_rhs,cnots_to_zzphase_lhs"
   ]
  },
  {
   "cell_type": "code",
   "execution_count": 6,
   "metadata": {},
   "outputs": [
    {
     "ename": "PyInvalidPatternError",
     "evalue": "Empty circuits are not allowed as patterns",
     "output_type": "error",
     "traceback": [
      "\u001b[0;31m---------------------------------------------------------------------------\u001b[0m",
      "\u001b[0;31mPyInvalidPatternError\u001b[0m                     Traceback (most recent call last)",
      "Cell \u001b[0;32mIn[6], line 3\u001b[0m\n\u001b[1;32m      1\u001b[0m \u001b[38;5;66;03m# define the Rule, and create a RuleMatcher with it\u001b[39;00m\n\u001b[1;32m      2\u001b[0m cnots_to_zzphase \u001b[38;5;241m=\u001b[39m Rule(l \u001b[38;5;241m=\u001b[39m cnots_to_zzphase_lhs, r \u001b[38;5;241m=\u001b[39m cnots_to_zzphase_rhs)\n\u001b[0;32m----> 3\u001b[0m cnots_matcher \u001b[38;5;241m=\u001b[39m \u001b[43mRuleMatcher\u001b[49m\u001b[43m(\u001b[49m\u001b[43m[\u001b[49m\u001b[43mcnots_to_zzphase\u001b[49m\u001b[43m]\u001b[49m\u001b[43m)\u001b[49m\n",
      "\u001b[0;31mPyInvalidPatternError\u001b[0m: Empty circuits are not allowed as patterns"
     ]
    }
   ],
   "source": [
    "# define the Rule, and create a RuleMatcher with it\n",
    "cnots_to_zzphase = Rule(l = cnots_to_zzphase_lhs, r = cnots_to_zzphase_rhs)\n",
    "cnots_matcher = RuleMatcher([cnots_to_zzphase])\n"
   ]
  },
  {
   "cell_type": "markdown",
   "metadata": {},
   "source": [
    "We can now apply the rules to a circuit."
   ]
  },
  {
   "cell_type": "code",
   "execution_count": null,
   "metadata": {},
   "outputs": [],
   "source": [
    "original_circ = Tk1Circuit(3).CX(1, 2).Rz(1/4, 2).CX(1, 2).CX(0, 1).Rz(1/2, 1).CX(0, 1)\n",
    "\n",
    "print(\"Original circuit:\")\n",
    "render_circuit_jupyter(original_circ)\n",
    "\n",
    "# Match our rewrite rule once, then apply it.\n",
    "merged_circ = Tk2Circuit(original_circ)\n",
    "while rewrite := cnots_matcher.find_match(merged_circ):\n",
    "    merged_circ.apply_rewrite(rewrite)\n",
    "\n",
    "print(\"Rewritten circuit:\")\n",
    "render_circuit_jupyter(merged_circ.to_tket1())"
   ]
  },
  {
   "cell_type": "markdown",
   "metadata": {},
   "source": [
    "Since the second rewrite rule does not have free parameters, we can define the pattern in pytket."
   ]
  },
  {
   "cell_type": "code",
   "execution_count": null,
   "metadata": {},
   "outputs": [],
   "source": [
    "# For circuits with no free parameters, we can use pytket directly\n",
    "zzphase_to_cnot = Rule(\n",
    "    Tk1Circuit(2).ZZPhase(0.5, 0, 1),\n",
    "    Tk1Circuit(2).Rx(3.5, 0).Rz(0.5, 1).Rz(1.5, 0).CX(1, 0).Rz(0.5, 0).Rx(0.5, 0).Rz(0.5, 0)\n",
    ")\n",
    "zzphase_matcher = RuleMatcher([zzphase_to_cnot])\n",
    "\n",
    "# Apply the matcher to the previous circuit\n",
    "final_circ = copy.deepcopy(merged_circ)\n",
    "while rewrite := zzphase_matcher.find_match(final_circ):\n",
    "    final_circ.apply_rewrite(rewrite)\n",
    "\n",
    "print(\"Rewritten circuit:\")\n",
    "render_circuit_jupyter(final_circ.to_tket1())\n"
   ]
  },
  {
   "cell_type": "markdown",
   "metadata": {},
   "source": [
    "The power of `RuleMatcher` gets unlocked when it is defined with multiple rules to apply at once. It can efficiently match millions of rules simultaneously."
   ]
  },
  {
   "cell_type": "markdown",
   "metadata": {},
   "source": [
    "### Pauli propagation using rewrite rules\n",
    "\n",
    "In this example we want to propagate Pauli gates through a circuit, using hand-written rules.\n",
    "\n",
    "Let's start by defining how Pauli gates propagate through CNOT and Hadamard gates.\n",
    "For each pair of (pauli, gate) we define a corresponding replacement (gate, pauli).\n"
   ]
  },
  {
   "cell_type": "code",
   "execution_count": null,
   "metadata": {},
   "outputs": [],
   "source": [
    "# 'from_coms' takes a list of commands and returns a circuit.\n",
    "# It's a shorthand for using the 'CircBuild' builder to build non-parametric circuits.\n",
    "\n",
    "hadamard_rules = [\n",
    "    Rule(from_coms(PauliX(0), H(0)), from_coms(H(0), PauliZ(0))),\n",
    "    Rule(from_coms(PauliZ(0), H(0)), from_coms(H(0), PauliX(0))),\n",
    "]\n",
    "\n",
    "cx_rules = [\n",
    "    Rule(from_coms(PauliZ(0), CX(0, 1)), from_coms(CX(0, 1), PauliZ(0))),\n",
    "    Rule(from_coms(PauliX(1), CX(0, 1)), from_coms(CX(0, 1), PauliX(1))),\n",
    "    Rule(from_coms(PauliZ(1), CX(0, 1)), from_coms(CX(0, 1), PauliZ(0), PauliZ(1))),\n",
    "    Rule(from_coms(PauliX(0), CX(0, 1)), from_coms(CX(0, 1), PauliX(0), PauliX(1))),\n",
    "]"
   ]
  },
  {
   "cell_type": "markdown",
   "metadata": {},
   "source": [
    "We can also describe how multiple Pauli gates can be combined with each other."
   ]
  },
  {
   "cell_type": "code",
   "execution_count": null,
   "metadata": {},
   "outputs": [],
   "source": [
    "def merge_rules() -> list[Rule]:\n",
    "    paulis = [PauliX(0), PauliY(0), PauliZ(0)]\n",
    "    identities = [\n",
    "        Rule(from_coms(p, p), id_circ(1))\n",
    "        for p in paulis\n",
    "    ]\n",
    "\n",
    "    off_diag = [\n",
    "        Rule(from_coms(p0, p1), from_coms(p2))\n",
    "        for p0, p1, p2 in itertools.permutations(paulis)\n",
    "    ]\n",
    "    return [*identities, *off_diag]\n",
    "merge_rules = merge_rules()"
   ]
  },
  {
   "cell_type": "markdown",
   "metadata": {},
   "source": [
    "We can now construct a rule matcher that will efficiently find matches for all of these rules in a circuit,\n",
    "along with a function to apply all rewrite rules exhaustively."
   ]
  },
  {
   "cell_type": "code",
   "execution_count": null,
   "metadata": {},
   "outputs": [],
   "source": [
    "matcher = RuleMatcher([*hadamard_rules, *cx_rules, *merge_rules])\n",
    "\n",
    "def apply_exhaustive(circ: Tk2Circuit, matcher: RuleMatcher) -> int:\n",
    "    \"\"\"Apply the first matching rule until no more matches are found. Return the\n",
    "    number of rewrites applied.\"\"\"\n",
    "    match_count = 0\n",
    "    while match := matcher.find_match(circ):\n",
    "        match_count += 1\n",
    "        circ.apply_rewrite(match)\n",
    "\n",
    "    return match_count"
   ]
  },
  {
   "cell_type": "markdown",
   "metadata": {},
   "source": [
    "Finally, we can use our rewriter to a circuit."
   ]
  },
  {
   "cell_type": "code",
   "execution_count": null,
   "metadata": {},
   "outputs": [],
   "source": [
    "circ = from_coms(PauliX(0), PauliZ(1), H(0), CX(0, 1), H(1))\n",
    "render_circuit_jupyter(circ.to_tket1())\n",
    "\n",
    "matches = apply_exhaustive(circ, matcher)\n",
    "print(f\"Applied {matches} rewrites\")\n",
    "\n",
    "render_circuit_jupyter(circ.to_tket1())"
   ]
  },
  {
   "cell_type": "markdown",
   "metadata": {},
   "source": [
    "### Supercompilation with Badger\n",
    "\n",
    "Tket2 includes a compilation pass called Badger which tries to simplify circuits by applying a large number of rewrite rules simultaneously, and searching for the best sequence of rules to apply. This is a computationally expensive process, but can lead to significant simplifications for big circuits."
   ]
  },
  {
   "cell_type": "code",
   "execution_count": null,
   "metadata": {},
   "outputs": [],
   "source": [
    "from tket.passes import badger_pass\n",
    "\n",
    "circ = Tk1Circuit(2).H(1).CZ(0, 1).H(0).H(0).H(1).CX(0, 1)\n",
    "render_circuit_jupyter(circ)\n",
    "\n",
    "badger_pass(rebase=True).apply(circ)\n",
    "render_circuit_jupyter(circ)"
   ]
  }
 ],
 "metadata": {
  "kernelspec": {
   "display_name": "tket2",
   "language": "python",
   "name": "python3"
  },
  "language_info": {
   "codemirror_mode": {
    "name": "ipython",
    "version": 3
   },
   "file_extension": ".py",
   "mimetype": "text/x-python",
   "name": "python",
   "nbconvert_exporter": "python",
   "pygments_lexer": "ipython3",
   "version": "3.10.18"
  }
 },
 "nbformat": 4,
 "nbformat_minor": 4
}
