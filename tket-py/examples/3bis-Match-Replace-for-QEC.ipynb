{
 "cells": [
  {
   "cell_type": "markdown",
   "id": "fa787b25",
   "metadata": {},
   "source": [
    "# Advanced pattern matching and rewriting for QEC circuit rebasing\n",
    "\n",
    "In the previous notebook, we saw how to define rewrite rules that look for\n",
    "instances of a given pattern in a circuit, and replace them with a given replacement.\n",
    "\n",
    "We will start by recapping that approach, then proceed to see how this can be used\n",
    "for the use case of rebasing a logical Clifford+T circuit to make use of complex\n",
    "computation primitives that arise as cheap (e.g. transversal) operations in high\n",
    "distance concatenated codes.\n",
    "\n",
    "_Note: This is currently unreleased and requires to build the tket-py crate from source in the branch `lm/pyinterface`. Activate a Python virtual environment of your choice, then `pip install maturin` and run `maturin develop` from the `./tket-py` directory._\n",
    "\n",
    "_Note 2: I have no idea how QEC actually works, so there will be gaps I will let you\n",
    "fill in for yourself._"
   ]
  },
  {
   "cell_type": "code",
   "execution_count": 1,
   "id": "72416be4",
   "metadata": {},
   "outputs": [],
   "source": [
    "from typing import List, Any\n",
    "\n",
    "from pytket import Circuit, OpType\n",
    "from pytket.circuit.display import render_circuit_jupyter\n",
    "\n",
    "from tket._tket.ops import (\n",
    "    TketOp,\n",
    ")  # Note that we are importing the \"wrong\" TketOp, see issue https://github.com/CQCL/tket2/issues/1027\n",
    "from tket.ops import TketOp as PyTketOp # This would be the \"correct\" TketOp\n",
    "from tket.circuit import Tk2Circuit\n",
    "\n",
    "# TODO: remove this\n",
    "def matches_op(op: TketOp, op2: PyTketOp) -> bool:\n",
    "    return op == op2._to_rs()"
   ]
  },
  {
   "cell_type": "markdown",
   "id": "20d120ff",
   "metadata": {},
   "source": [
    "## Circuit transformation as graph rewriting\n",
    "\n",
    "The API that we discuss in this notebook can be used to express circuit transformation\n",
    "logic in terms of \"rewrites\", an approach that comes from graph transformation (aka rewriting) theory. You'll see -- this is cool and makes it very easy to express a wide\n",
    "range of circuit transformation strategies.\n",
    "\n",
    "There are three main concepts:\n",
    "\n",
    "1. The `Rewriter` is an object that takes a circuit as input and returns a bunch of `CircuitRewrite` objects as outputs. This step is \"read-only\" in the sense that it does not modify the input circuit at all.\n",
    "2. The `CircuitRewrite` objects describe potential circuit transformations that apply locally to a subcircuit of the input circuit. They can be stored and possibly combined together before being applied to the input circuit -- or they can be discarded, in which case, nothing happens to the input circuit.\n",
    "3. Finally, an `Optimiser` takes the set of `CircuitRewrite` produced by one or multiple `Rewriter` objects and finds the best sequence of rewrites to apply to the input circuit. This typically happens by trial and error: rewrites are applied and their effect on the cost function is evaluated. It is then up to the optimiser to decide whether to apply further rewrites on top, or backtracking and reverting the change to apply other rewrites instead.\n",
    "\n",
    "Let's go through a simple example to illustrate these three concepts, using the rewriters and optimisers provided out of the box by TKET.\n",
    "\n",
    "#### 1. The ECC Rewriter\n",
    "\n",
    "The `ECCRewriter` provides a fast way to generate rewrites that implement the typical commutation and gate cancellation rules on a given gate set. This is often useful as a basis for more complex rewrite strategies."
   ]
  },
  {
   "cell_type": "code",
   "execution_count": 2,
   "id": "62259200",
   "metadata": {},
   "outputs": [],
   "source": [
    "from tket.rewrite import ECCRewriter"
   ]
  },
  {
   "cell_type": "markdown",
   "id": "df6beaf6",
   "metadata": {},
   "source": [
    "`ECCRewriter`s rely on pre-compiled matching automata to quickly find rewrite opportunities. We can load a pre-compiled rewriter specialised for the Clifford+T gate set as follows. The `5` and `3` in the file name refer to the maximum number of gates, respectively qubit in the rewrites that will be produced."
   ]
  },
  {
   "cell_type": "code",
   "execution_count": 3,
   "id": "9d30112e",
   "metadata": {},
   "outputs": [],
   "source": [
    "rewriter = ECCRewriter.load_precompiled(\"../../test_files/eccs/clifford_t_5_3.rwr\")"
   ]
  },
  {
   "cell_type": "markdown",
   "id": "4b0213b8",
   "metadata": {},
   "source": [
    "#### 2. CircuitRewrites\n",
    "\n",
    "We can inspect the rewrites that the rewriter produces on a simple circuit:"
   ]
  },
  {
   "cell_type": "code",
   "execution_count": 4,
   "id": "5a72379c",
   "metadata": {},
   "outputs": [
    {
     "data": {
      "text/plain": [
       "[[S q[0]; CX q[0], q[1]; ], [CX q[0], q[1]; S q[0]; ]]"
      ]
     },
     "execution_count": 4,
     "metadata": {},
     "output_type": "execute_result"
    }
   ],
   "source": [
    "circ = Circuit(2).CX(0, 1).S(0).CX(0, 1)\n",
    "\n",
    "# Print the right-hand side of the rewrites, i.e. the new\n",
    "# subcircuit fragments that the rewrite introduces.\n",
    "[\n",
    "    rw.replacement().to_tket1()\n",
    "    for rw in rewriter.get_rewrites(Tk2Circuit(circ))\n",
    "]"
   ]
  },
  {
   "cell_type": "markdown",
   "id": "f1896897",
   "metadata": {},
   "source": [
    "We see that one rewrite moves the `S` gate to the left of the `CX` gate, while the other one moves it to the right.\n",
    "\n",
    "#### 3. Optimiser\n",
    "\n",
    "In the example above, we see that it would be beneficial to move the `S` gate out of the `CX` sandwich, so that we could then in a second step cancel out the two `CX` gates.\n",
    "\n",
    "This is what optimisers are for! You provide them with a cost function, and they will try to find the best sequence of rewrites to apply to the input circuit to minimise the cost.\n",
    "\n",
    "Currrently, the only optimiser provided by TKET is `badger`. Its older sibling `seadog` will be available soon!"
   ]
  },
  {
   "cell_type": "code",
   "execution_count": 5,
   "id": "fa86cf1f",
   "metadata": {},
   "outputs": [
    {
     "data": {
      "text/html": [
       "\n",
       "\n",
       "\n",
       "\n",
       "\n",
       "\n",
       "<div style=\"resize: vertical; overflow: auto; height: 400px; display: block\">\n",
       "    <iframe srcdoc=\"\n",
       "&lt;!DOCTYPE html&gt;\n",
       "&lt;html lang=&#34;en&#34;&gt;\n",
       "&lt;head&gt;\n",
       "    &lt;meta charset=&#34;UTF-8&#34;&gt;\n",
       "    &lt;!-- Download Vue 3--&gt;\n",
       "&lt;script type=&#34;application/javascript&#34; src=&#34;https://cdn.jsdelivr.net/npm/vue@3&#34;&gt;&lt;/script&gt;\n",
       "&lt;!-- Download Circuit Renderer with styles --&gt;\n",
       "&lt;script type=&#34;application/javascript&#34; src=&#34;https://unpkg.com/pytket-circuit-renderer@0.10/dist/pytket-circuit-renderer.umd.js&#34;&gt;&lt;/script&gt;\n",
       "&lt;link rel=&#34;stylesheet&#34; href=&#34;https://unpkg.com/pytket-circuit-renderer@0.10/dist/pytket-circuit-renderer.css&#34;&gt;\n",
       "&lt;/head&gt;\n",
       "&lt;body&gt;\n",
       "\n",
       "\n",
       "    &lt;div id=&#34;circuit-display-vue-container-a2b793e7-2a3e-4696-8d20-b21af35872e7&#34; class=&#34;pytket-circuit-display-container&#34;&gt;\n",
       "        &lt;div style=&#34;display: none&#34;&gt;\n",
       "            &lt;div id=&#34;circuit-json-to-display&#34;&gt;{&#34;bits&#34;: [], &#34;commands&#34;: [{&#34;args&#34;: [[&#34;q&#34;, [0]]], &#34;op&#34;: {&#34;type&#34;: &#34;S&#34;}}], &#34;created_qubits&#34;: [], &#34;discarded_qubits&#34;: [], &#34;implicit_permutation&#34;: [[[&#34;q&#34;, [0]], [&#34;q&#34;, [0]]], [[&#34;q&#34;, [1]], [&#34;q&#34;, [1]]]], &#34;phase&#34;: &#34;0.0&#34;, &#34;qubits&#34;: [[&#34;q&#34;, [0]], [&#34;q&#34;, [1]]]}&lt;/div&gt;\n",
       "        &lt;/div&gt;\n",
       "        &lt;circuit-display-container\n",
       "                :circuit-element-str=&#34;&#39;#circuit-json-to-display&#39;&#34;\n",
       "                :init-render-options=&#34;initRenderOptions&#34;\n",
       "                view-format=&#34;None&#34;\n",
       "        &gt;&lt;/circuit-display-container&gt;\n",
       "    &lt;/div&gt;\n",
       "    &lt;script type=&#34;application/javascript&#34;&gt;\n",
       "      const circuitRendererUid = &#34;a2b793e7-2a3e-4696-8d20-b21af35872e7&#34;;\n",
       "      const displayOptions = JSON.parse(&#39;{}&#39;);\n",
       "\n",
       "      // Script to initialise the circuit renderer app\n",
       "\n",
       "const { createApp } = Vue;\n",
       "const circuitDisplayContainer = window[&#34;pytket-circuit-renderer&#34;].default;\n",
       "// Init variables to be shared between circuit display instances\n",
       "if (typeof window.pytketCircuitDisplays === &#34;undefined&#34;) {\n",
       "    window.pytketCircuitDisplays = {};\n",
       "}\n",
       "// Create the root Vue component\n",
       "const app = createApp({\n",
       "    delimiters: [&#39;[[#&#39;, &#39;#]]&#39;],\n",
       "    components: { circuitDisplayContainer },\n",
       "    data () {\n",
       "      return {\n",
       "        initRenderOptions: displayOptions,\n",
       "      }\n",
       "    }\n",
       "})\n",
       "app.config.unwrapInjectedRef = true;\n",
       "app.mount(&#34;#circuit-display-vue-container-&#34;+circuitRendererUid);\n",
       "window.pytketCircuitDisplays[circuitRendererUid] = app;\n",
       "    &lt;/script&gt;\n",
       "\n",
       "\n",
       "\n",
       "&lt;/body&gt;\n",
       "&lt;/html&gt;\n",
       "\"\n",
       "            width=\"100%\" height=\"100%\"\n",
       "            style=\"border: none; outline: none; overflow: auto\"></iframe>\n",
       "</div>\n",
       "\n"
      ],
      "text/plain": [
       "<IPython.core.display.HTML object>"
      ]
     },
     "metadata": {},
     "output_type": "display_data"
    }
   ],
   "source": [
    "from tket.optimiser import BadgerOptimiser\n",
    "\n",
    "# we use the default cost function, which is the number of CX gates\n",
    "opt = BadgerOptimiser(rewriter, cost_fn=None)\n",
    "opt_circ = opt.optimise(Tk2Circuit(circ))\n",
    "\n",
    "render_circuit_jupyter(opt_circ.to_tket1())\n"
   ]
  },
  {
   "cell_type": "markdown",
   "id": "accec471",
   "metadata": {},
   "source": [
    "Excellent! We have successfully moved the `S` gate out of the `CX` sandwich, and cancelled out the two `CX` gates.\n",
    "\n",
    "We are now ready to see how to implement custom rewriters.\n",
    "\n",
    "## Matchers and replacers\n",
    "\n",
    "Rewriters can be built by combining two components:\n",
    "\n",
    "- A `CircuitMatcher`: an object that defines what patterns to match. It takes operations matched so far and a new operation and must decide if the new operation should be added to the match.\n",
    "- A `CircuitReplacer`: an object that returns all possible replacements for a matched circuit. Given a matched pattern, it should return a list of circuits that the optimiser should consider as a right hand side for the rewrite.\n",
    "\n",
    "To create such matcher and replacer objects in Python, we must implement the API given by two Python protocols,\n",
    "that can be imported from `tket.protocol`:\n",
    "\n",
    "(A python protocol is essentially a Python base class, except that inheriting from the parent class is not mandatory.)"
   ]
  },
  {
   "cell_type": "code",
   "execution_count": 6,
   "id": "69e4d4bd",
   "metadata": {},
   "outputs": [],
   "source": [
    "from tket.protocol import CircuitMatcher, CircuitReplacer"
   ]
  },
  {
   "cell_type": "markdown",
   "id": "8a7ebade",
   "metadata": {},
   "source": [
    "#### 1. Circuit matchers\n",
    "\n",
    "Copying over the function signature from `CircuitMatcher`, the API that we must implement looks like this:\n",
    "\n",
    "```python\n",
    "class CircuitMatcher:\n",
    "    def match_tket_op(\n",
    "        self, op: TketOp, op_args: List[CircuitUnit], context: MatchContext\n",
    "    ) -> MatchOutcome:\n",
    "        ...\n",
    "```\n",
    "\n",
    "To understand what these arguments mean, let's create a dummy matcher: it will match any `op`. As it does so, we can print out the `op`, `op_args` and `context` values."
   ]
  },
  {
   "cell_type": "code",
   "execution_count": 7,
   "id": "1c5d7308",
   "metadata": {},
   "outputs": [],
   "source": [
    "from tket.matcher import CircuitUnit, MatchContext, MatchOutcome\n",
    "\n",
    "class AnyOpMatcher(CircuitMatcher):\n",
    "    def match_tket_op(\n",
    "        self, op: TketOp, op_args: List[CircuitUnit], context: MatchContext\n",
    "    ) -> MatchOutcome:\n",
    "        print(f\"op = {op}, op_args = {op_args}, context = {context}\")\n",
    "        return {\"complete\": True}"
   ]
  },
  {
   "cell_type": "markdown",
   "id": "29604b3e",
   "metadata": {},
   "source": [
    "Here we already see what the return value `MatchOutcome` that we must supply should look like: it's a dictionary, in this case with a single key `complete` set to `True`.\n",
    "\n",
    "The full type of `MatchOutcome` is defined in `tket/matcher.py`:\n",
    "\n",
    "```python\n",
    "class MatchOutcome(TypedDict, total=False):\n",
    "    \"\"\"\n",
    "    Outcome of a pattern match.\n",
    "    \"\"\"\n",
    "\n",
    "    complete: Any\n",
    "    proceed: Union[Any, bool]\n",
    "    skip: Union[Any, bool]\n",
    "```\n",
    "\n",
    "which is fancy Python to say that `MatchOutcome` is a dictionary that can contain any subset of the keys `complete`, `proceed` and `skip`.\n",
    "\n",
    "To actually see the matcher in action, we must\n",
    "1. combine it with a replacer\n",
    "2. create a rewriter from the combination of `AnyOpMatcher` and the replacer\n",
    "3. pass the rewriter to the optimiser and let it run!\n",
    "\n",
    "A good replacer that we can use here is `ReplaceWithIdentity`: whatever circuit is matched, this replacer will result in rewrites that replace the match with the identity circuit."
   ]
  },
  {
   "cell_type": "code",
   "execution_count": 8,
   "id": "69487da3",
   "metadata": {},
   "outputs": [
    {
     "name": "stdout",
     "output_type": "stream",
     "text": [
      "op = CX, op_args = [CircuitUnit(linear_index=0), CircuitUnit(linear_index=1)], context = {'match_info': None, 'subcircuit': <builtins.Tk2Circuit object at 0x1215e92c0>, 'op_node': 'Node(4)'}\n",
      "op = S, op_args = [CircuitUnit(linear_index=0)], context = {'match_info': None, 'subcircuit': <builtins.Tk2Circuit object at 0x1215e94c0>, 'op_node': 'Node(5)'}\n",
      "op = T, op_args = [CircuitUnit(linear_index=1)], context = {'match_info': None, 'subcircuit': <builtins.Tk2Circuit object at 0x1215e9510>, 'op_node': 'Node(6)'}\n",
      "op = CX, op_args = [CircuitUnit(linear_index=0), CircuitUnit(linear_index=1)], context = {'match_info': None, 'subcircuit': <builtins.Tk2Circuit object at 0x1215e95a0>, 'op_node': 'Node(7)'}\n",
      "op = CX, op_args = [CircuitUnit(linear_index=0), CircuitUnit(linear_index=1)], context = {'match_info': None, 'subcircuit': <builtins.Tk2Circuit object at 0x1215e7180>, 'op_node': 'Node(4)'}\n",
      "op = CX, op_args = [CircuitUnit(linear_index=0), CircuitUnit(linear_index=1)], context = {'match_info': None, 'subcircuit': <builtins.Tk2Circuit object at 0x1215e7180>, 'op_node': 'Node(4)'}\n",
      "op = CX, op_args = [CircuitUnit(linear_index=0), CircuitUnit(linear_index=1)], context = {'match_info': None, 'subcircuit': <builtins.Tk2Circuit object at 0x1215eb9d0>, 'op_node': 'Node(7)'}\n",
      "op = CX, op_args = [CircuitUnit(linear_index=0), CircuitUnit(linear_index=1)], context = {'match_info': None, 'subcircuit': <builtins.Tk2Circuit object at 0x1215e7240>, 'op_node': 'Node(4)'}\n",
      "op = S, op_args = [CircuitUnit(linear_index=0)], context = {'match_info': None, 'subcircuit': <builtins.Tk2Circuit object at 0x1215e9660>, 'op_node': 'Node(5)'}\n",
      "op = CX, op_args = [CircuitUnit(linear_index=0), CircuitUnit(linear_index=1)], context = {'match_info': None, 'subcircuit': <builtins.Tk2Circuit object at 0x1215e9660>, 'op_node': 'Node(7)'}\n",
      "number of gates: 0\n"
     ]
    }
   ],
   "source": [
    "from tket.matcher import ReplaceWithIdentity, MatchReplaceRewriter\n",
    "\n",
    "rewriter = MatchReplaceRewriter(AnyOpMatcher(), ReplaceWithIdentity())\n",
    "\n",
    "circ = Circuit(2).CX(0, 1).S(0).T(1).CX(0, 1)\n",
    "\n",
    "opt = BadgerOptimiser(rewriter)\n",
    "opt_circ = opt.optimise(circ)\n",
    "\n",
    "print(\"number of gates:\", opt_circ.n_gates)"
   ]
  },
  {
   "cell_type": "markdown",
   "id": "e7e01221",
   "metadata": {},
   "source": [
    "Yeah, so it turns out that if we let any op be replaced with the identity, then the optimiser will just remove all the gates! Probably not what we want in practice 🙃\n",
    "\n",
    "However, it's achieved our objective: we can examine the contents of `op`, `op_args` and `context` that are passed to our matcher by the optimiser.\n",
    "\n",
    "- `op` is the least surprising: it's the operation that we are matching.\n",
    "- `op_args` are the arguments passed to the operation: because our gates do not take any parameters (say a rotation angle for instance), this list contains exactly one element for each qubit of the `op`. Currently, these op_args only contain one field, `op_args[i].linear_index`, which gives us an integer that uniquely identifies the qubit on which the operation acts. We will see later that in some situation more information is available.\n",
    "- `context` is a dictionary that contains a bunch more information about what we are matching. Among others, we have `subcircuit`, which contains the circuit that has been matched so far.\n",
    "\n",
    "---\n",
    "\n",
    "Have you noticed what's missing in our example? The matches our matcher produces are always composed of a single operation! We can see that clearly if we modify `AnyOpMatcher` to print the number of operations in `context[\"subcircuit\"]`:"
   ]
  },
  {
   "cell_type": "code",
   "execution_count": 9,
   "id": "1448c40a",
   "metadata": {},
   "outputs": [
    {
     "name": "stdout",
     "output_type": "stream",
     "text": [
      "num operations matched so far: 0\n",
      "num operations matched so far: 0\n",
      "num operations matched so far: 0\n",
      "num operations matched so far: 0\n",
      "num operations matched so far: 0\n",
      "num operations matched so far: 0\n",
      "num operations matched so far: 0\n",
      "num operations matched so far: 0\n",
      "num operations matched so far: 0\n",
      "num operations matched so far: 0\n"
     ]
    }
   ],
   "source": [
    "class AnyOpMatcher(CircuitMatcher):\n",
    "    def match_tket_op(\n",
    "        self, op: TketOp, op_args: List[CircuitUnit], context: MatchContext\n",
    "    ) -> MatchOutcome:\n",
    "        print(f\"num operations matched so far: {context['subcircuit'].to_tket1().n_gates}\")\n",
    "        return {\"complete\": True}\n",
    "\n",
    "circ = Circuit(2).CX(0, 1).S(0).T(1).CX(0, 1)\n",
    "\n",
    "rewriter = MatchReplaceRewriter(AnyOpMatcher(), ReplaceWithIdentity())\n",
    "opt = BadgerOptimiser(rewriter)\n",
    "opt_circ = opt.optimise(circ)"
   ]
  },
  {
   "cell_type": "markdown",
   "id": "2ce2ad01",
   "metadata": {},
   "source": [
    "Not great... What's the issue? Instead of returning `{\"complete\": True}`, we should return a `MatchOutcome` that indicates to the optimiser that matching should proceed further and is NOT complete yet.\n",
    "\n",
    "We can for instance match subcircuits composed of two CX gates. For this we use the `proceed` key to indicate that we should match the current op and proceed to match the next one. We also introduce the `skip` key to indicate that we should not match the current op but should proceed to matching the next one anyways.\n",
    "\n",
    "Warning: when an operation does not match, do not forget to return a `skip` outcome if you are still interested in (potentially) matching other gates. This is a common pitfall: returning `None` or an empty dictionary indicates that no further operations should be matched."
   ]
  },
  {
   "cell_type": "code",
   "execution_count": 10,
   "id": "cd64bbda",
   "metadata": {},
   "outputs": [
    {
     "data": {
      "text/html": [
       "\n",
       "\n",
       "\n",
       "\n",
       "\n",
       "\n",
       "<div style=\"resize: vertical; overflow: auto; height: 400px; display: block\">\n",
       "    <iframe srcdoc=\"\n",
       "&lt;!DOCTYPE html&gt;\n",
       "&lt;html lang=&#34;en&#34;&gt;\n",
       "&lt;head&gt;\n",
       "    &lt;meta charset=&#34;UTF-8&#34;&gt;\n",
       "    &lt;!-- Download Vue 3--&gt;\n",
       "&lt;script type=&#34;application/javascript&#34; src=&#34;https://cdn.jsdelivr.net/npm/vue@3&#34;&gt;&lt;/script&gt;\n",
       "&lt;!-- Download Circuit Renderer with styles --&gt;\n",
       "&lt;script type=&#34;application/javascript&#34; src=&#34;https://unpkg.com/pytket-circuit-renderer@0.10/dist/pytket-circuit-renderer.umd.js&#34;&gt;&lt;/script&gt;\n",
       "&lt;link rel=&#34;stylesheet&#34; href=&#34;https://unpkg.com/pytket-circuit-renderer@0.10/dist/pytket-circuit-renderer.css&#34;&gt;\n",
       "&lt;/head&gt;\n",
       "&lt;body&gt;\n",
       "\n",
       "\n",
       "    &lt;div id=&#34;circuit-display-vue-container-6b52ac15-0197-4b09-b998-b5c57a466504&#34; class=&#34;pytket-circuit-display-container&#34;&gt;\n",
       "        &lt;div style=&#34;display: none&#34;&gt;\n",
       "            &lt;div id=&#34;circuit-json-to-display&#34;&gt;{&#34;bits&#34;: [], &#34;commands&#34;: [{&#34;args&#34;: [[&#34;q&#34;, [0]], [&#34;q&#34;, [1]]], &#34;op&#34;: {&#34;type&#34;: &#34;CX&#34;}}, {&#34;args&#34;: [[&#34;q&#34;, [0]]], &#34;op&#34;: {&#34;type&#34;: &#34;S&#34;}}, {&#34;args&#34;: [[&#34;q&#34;, [1]]], &#34;op&#34;: {&#34;type&#34;: &#34;T&#34;}}], &#34;created_qubits&#34;: [], &#34;discarded_qubits&#34;: [], &#34;implicit_permutation&#34;: [[[&#34;q&#34;, [0]], [&#34;q&#34;, [0]]], [[&#34;q&#34;, [1]], [&#34;q&#34;, [1]]]], &#34;phase&#34;: &#34;0.0&#34;, &#34;qubits&#34;: [[&#34;q&#34;, [0]], [&#34;q&#34;, [1]]]}&lt;/div&gt;\n",
       "        &lt;/div&gt;\n",
       "        &lt;circuit-display-container\n",
       "                :circuit-element-str=&#34;&#39;#circuit-json-to-display&#39;&#34;\n",
       "                :init-render-options=&#34;initRenderOptions&#34;\n",
       "                view-format=&#34;None&#34;\n",
       "        &gt;&lt;/circuit-display-container&gt;\n",
       "    &lt;/div&gt;\n",
       "    &lt;script type=&#34;application/javascript&#34;&gt;\n",
       "      const circuitRendererUid = &#34;6b52ac15-0197-4b09-b998-b5c57a466504&#34;;\n",
       "      const displayOptions = JSON.parse(&#39;{}&#39;);\n",
       "\n",
       "      // Script to initialise the circuit renderer app\n",
       "\n",
       "const { createApp } = Vue;\n",
       "const circuitDisplayContainer = window[&#34;pytket-circuit-renderer&#34;].default;\n",
       "// Init variables to be shared between circuit display instances\n",
       "if (typeof window.pytketCircuitDisplays === &#34;undefined&#34;) {\n",
       "    window.pytketCircuitDisplays = {};\n",
       "}\n",
       "// Create the root Vue component\n",
       "const app = createApp({\n",
       "    delimiters: [&#39;[[#&#39;, &#39;#]]&#39;],\n",
       "    components: { circuitDisplayContainer },\n",
       "    data () {\n",
       "      return {\n",
       "        initRenderOptions: displayOptions,\n",
       "      }\n",
       "    }\n",
       "})\n",
       "app.config.unwrapInjectedRef = true;\n",
       "app.mount(&#34;#circuit-display-vue-container-&#34;+circuitRendererUid);\n",
       "window.pytketCircuitDisplays[circuitRendererUid] = app;\n",
       "    &lt;/script&gt;\n",
       "\n",
       "\n",
       "\n",
       "&lt;/body&gt;\n",
       "&lt;/html&gt;\n",
       "\"\n",
       "            width=\"100%\" height=\"100%\"\n",
       "            style=\"border: none; outline: none; overflow: auto\"></iframe>\n",
       "</div>\n",
       "\n"
      ],
      "text/plain": [
       "<IPython.core.display.HTML object>"
      ]
     },
     "metadata": {},
     "output_type": "display_data"
    }
   ],
   "source": [
    "class AnyTwoCXMatcher(CircuitMatcher):\n",
    "    def match_tket_op(\n",
    "        self, op: TketOp, op_args: List[CircuitUnit], context: MatchContext\n",
    "    ) -> MatchOutcome:\n",
    "        if not matches_op(op, PyTketOp.CX):\n",
    "            # We are not interested in non-CX gates\n",
    "            return {\"skip\": True}\n",
    "\n",
    "        n_gates_matched = context[\"subcircuit\"].to_tket1().n_gates\n",
    "        if n_gates_matched == 0:\n",
    "            # This is the first CX we matched, so we proceed to match the second.\n",
    "            return {\"proceed\": True}\n",
    "        else:\n",
    "            assert n_gates_matched == 1\n",
    "            # This is the second CX we matched, so we are done!\n",
    "            return {\"complete\": True}\n",
    "\n",
    "circ = Circuit(2).CX(0, 1).S(0).T(1).CX(0, 1).CX(0, 1)\n",
    "\n",
    "rewriter = MatchReplaceRewriter(AnyTwoCXMatcher(), ReplaceWithIdentity())\n",
    "opt = BadgerOptimiser(rewriter)\n",
    "opt_circ = opt.optimise(circ)\n",
    "\n",
    "render_circuit_jupyter(opt_circ)"
   ]
  },
  {
   "cell_type": "markdown",
   "id": "dbf87ad6",
   "metadata": {},
   "source": [
    "Hey, this is actually a semantically correct optimisation! We are removing any pair of CX gates.\n",
    "\n",
    "However, this has issues: it will for instance remove two CX even if the second is upside down, or if it does not act on the same qubits:"
   ]
  },
  {
   "cell_type": "code",
   "execution_count": 11,
   "id": "94aff0a0",
   "metadata": {},
   "outputs": [],
   "source": [
    "circ = Circuit(2).CX(0, 1).CX(1, 0)\n",
    "assert opt.optimise(circ).n_gates == 0 # not great...\n",
    "\n",
    "circ = Circuit(3).CX(0, 1).CX(1, 2)\n",
    "assert opt.optimise(circ).n_gates == 0 # arguably worse!\n"
   ]
  },
  {
   "cell_type": "markdown",
   "id": "96b0d47b",
   "metadata": {},
   "source": [
    "To resolve this, we should track state throughout our matching process:\n",
    "- when matching the first CX, we should remember the qubits it acts on\n",
    "- when matching the second CX, we should only match successfully if it acts on the same qubits as the first CX\n",
    "\n",
    "We can do this by returning a (non-boolean!) value in our MatchOutcome dict:\n",
    "```python\n",
    "return {\"proceed\": [ctrl_qubit, tgt_qubit]}\n",
    "```\n",
    "\n",
    "This value is then passed back to us when we match the second CX, within `context[\"match_info\"]`. This gives the following:"
   ]
  },
  {
   "cell_type": "code",
   "execution_count": 12,
   "id": "1b62a367",
   "metadata": {},
   "outputs": [
    {
     "name": "stderr",
     "output_type": "stream",
     "text": [
      "\n",
      "thread '<unnamed>' panicked at tket-py/src/matcher.rs:422:14:\n",
      "called `Result::unwrap()` on an `Err` value: PyErr { type: <class 'TypeError'>, value: TypeError(\"unhashable type: 'list'\"), traceback: None }\n",
      "note: run with `RUST_BACKTRACE=1` environment variable to display a backtrace\n"
     ]
    },
    {
     "ename": "PanicException",
     "evalue": "called `Result::unwrap()` on an `Err` value: PyErr { type: <class 'TypeError'>, value: TypeError(\"unhashable type: 'list'\"), traceback: None }",
     "output_type": "error",
     "traceback": [
      "\u001b[0;31m---------------------------------------------------------------------------\u001b[0m",
      "\u001b[0;31mPanicException\u001b[0m                            Traceback (most recent call last)",
      "Cell \u001b[0;32mIn[12], line 30\u001b[0m\n\u001b[1;32m     28\u001b[0m rewriter \u001b[38;5;241m=\u001b[39m MatchReplaceRewriter(TwoCXMatcher(), ReplaceWithIdentity())\n\u001b[1;32m     29\u001b[0m opt \u001b[38;5;241m=\u001b[39m BadgerOptimiser(rewriter)\n\u001b[0;32m---> 30\u001b[0m opt_circ \u001b[38;5;241m=\u001b[39m \u001b[43mopt\u001b[49m\u001b[38;5;241;43m.\u001b[39;49m\u001b[43moptimise\u001b[49m\u001b[43m(\u001b[49m\u001b[43mcirc\u001b[49m\u001b[43m)\u001b[49m\n\u001b[1;32m     32\u001b[0m render_circuit_jupyter(opt_circ)\n",
      "\u001b[0;31mPanicException\u001b[0m: called `Result::unwrap()` on an `Err` value: PyErr { type: <class 'TypeError'>, value: TypeError(\"unhashable type: 'list'\"), traceback: None }"
     ]
    }
   ],
   "source": [
    "class TwoCXMatcher(CircuitMatcher):\n",
    "    def match_tket_op(\n",
    "        self, op: TketOp, op_args: list[CircuitUnit], context: MatchContext\n",
    "    ) -> MatchOutcome:\n",
    "        if not matches_op(op, PyTketOp.CX):\n",
    "            return {\"skip\": True}\n",
    "\n",
    "        # use the `match_info` dict key to track the qubit IDs matched previously\n",
    "        prev_matched_qubits = context[\"match_info\"]\n",
    "\n",
    "        match prev_matched_qubits:\n",
    "            case None:\n",
    "                # This is the first CX we matched, so we proceed to match the second.\n",
    "                qubits = [arg.linear_index for arg in op_args]\n",
    "                return {\"proceed\": qubits}\n",
    "            case [ctrl_qubit, tgt_qubit]:\n",
    "                curr_qubits = [arg.linear_index for arg in op_args]\n",
    "                if curr_qubits == [ctrl_qubit, tgt_qubit]:\n",
    "                    # We have successfully matched two CXs, so we are done!\n",
    "                    return {\"complete\": True}\n",
    "                else:\n",
    "                    # This CX is not on the right qubits, so we are not interested.\n",
    "                    # there might still be other CXs that we are interested in\n",
    "                    return {\"skip\": True}\n",
    "\n",
    "\n",
    "circ = Circuit(3).CX(0, 1).CX(1, 0).CX(1, 0).CX(0, 2)\n",
    "rewriter = MatchReplaceRewriter(TwoCXMatcher(), ReplaceWithIdentity())\n",
    "opt = BadgerOptimiser(rewriter)\n",
    "opt_circ = opt.optimise(circ)\n",
    "\n",
    "render_circuit_jupyter(opt_circ)"
   ]
  },
  {
   "cell_type": "markdown",
   "id": "df80653d",
   "metadata": {},
   "source": [
    "This has indeed left the CX that were not on the same qubits unchanged!\n",
    "\n",
    "Passing around data as `match_info` is super powerful: you are free to use it for whatever you want. Instead of printing out from the matcher code directly (which interleaves all the various matching operations that the optimiser might perform in parallel), we could for instance keep a trace of the matching process within `match_info`. This would make debugging a lot easier!"
   ]
  },
  {
   "cell_type": "code",
   "execution_count": null,
   "id": "a349a3ac",
   "metadata": {},
   "outputs": [],
   "source": [
    "class TwoCXMatcher(CircuitMatcher):\n",
    "    def match_tket_op(\n",
    "        self, op: TketOp, op_args: list[CircuitUnit], context: MatchContext\n",
    "    ) -> MatchOutcome:\n",
    "        if not matches_op(op, PyTketOp.CX):\n",
    "            return {\"skip\": True}\n",
    "\n",
    "        # use the `match_info` dict key to track the qubit IDs matched previously\n",
    "        prev_matched_qubits = context[\"match_info\"]\n",
    "\n",
    "        match prev_matched_qubits:\n",
    "            case None:\n",
    "                # This is the first CX we matched, so we proceed to match the second.\n",
    "                qubits = [arg.linear_index for arg in op_args]\n",
    "                debug_info = f\"matched first CX: op_args = {op_args}\\n\"\n",
    "                return {\"proceed\": (qubits, debug_info)}\n",
    "            case ([ctrl_qubit, tgt_qubit], debug_info):\n",
    "                curr_qubits = [arg.linear_index for arg in op_args]\n",
    "                if curr_qubits == [ctrl_qubit, tgt_qubit]:\n",
    "                    # We have successfully matched two CXs, so we are done!\n",
    "                    debug_info += f\"matched second CX: op_args = {op_args}\\n\"\n",
    "                    return {\"complete\": debug_info}\n",
    "                else:\n",
    "                    # This CX is not on the right qubits, so we are not interested.\n",
    "                    return {\"skip\": True}"
   ]
  },
  {
   "cell_type": "markdown",
   "id": "0360f3c8",
   "metadata": {},
   "source": [
    "Now, the issue is that if we were to run this we would not see any of the debug information as it never gets printed out. However, the code above contains a subtle change: we are now returning a string from the `complete` key, instead of the previous boolean.\n",
    "\n",
    "In complete analogy to passing a value to the `proceed` key, we can also pass a value to the `complete` key. This value won't appear in future calls to `match_tket_op`, for the simple reason that there will not be any such future calls (the matching process has completed!). It is instead passed to the replacer.\n",
    "\n",
    "It is thus time to implement our own replacer.\n",
    "\n",
    "#### 2. Circuit replacer\n",
    "\n",
    "The API, copied over from `tket/protocol.py`, that we need to implement looks as follows:\n",
    "\n",
    "```python\n",
    "class CircuitReplacer(Protocol):\n",
    "    def replace_match(self, circuit: Tk2Circuit, match_info: Any) -> List[Tk2Circuit]:\n",
    "        ...\n",
    "```\n",
    "\n",
    "As you can see, there is a `match_info` argument! That is precisely where we will find the value that we have passed to the `complete` key in the `MatchOutcome` dictionary. Here's a simple replacer that returns an empty two-qubit circuit. We then run the matcher-replacer pair using Badger, which allows us to see the debug information for each successful match of the matcher:"
   ]
  },
  {
   "cell_type": "code",
   "execution_count": null,
   "id": "46676185",
   "metadata": {},
   "outputs": [
    {
     "name": "stdout",
     "output_type": "stream",
     "text": [
      "match_info = matched first CX: op_args = [CircuitUnit(linear_index=0), CircuitUnit(linear_index=1)]\n",
      "matched second CX: op_args = [CircuitUnit(linear_index=0, linear_pos=before), CircuitUnit(linear_index=1, linear_pos=before)]\n",
      "\n",
      "match_info = matched first CX: op_args = [CircuitUnit(linear_index=1), CircuitUnit(linear_index=0)]\n",
      "matched second CX: op_args = [CircuitUnit(linear_index=1, linear_pos=before), CircuitUnit(linear_index=0, linear_pos=before)]\n",
      "\n",
      "match_info = matched first CX: op_args = [CircuitUnit(linear_index=0), CircuitUnit(linear_index=1)]\n",
      "matched second CX: op_args = [CircuitUnit(linear_index=0, linear_pos=after), CircuitUnit(linear_index=1, linear_pos=after)]\n",
      "\n",
      "match_info = matched first CX: op_args = [CircuitUnit(linear_index=1), CircuitUnit(linear_index=0)]\n",
      "matched second CX: op_args = [CircuitUnit(linear_index=1, linear_pos=after), CircuitUnit(linear_index=0, linear_pos=after)]\n",
      "\n"
     ]
    },
    {
     "data": {
      "text/plain": [
       "[<CircuitRewrite at 0x1406d2b20>,\n",
       " <CircuitRewrite at 0x112a4e9f0>,\n",
       " <CircuitRewrite at 0x112a4d1b0>,\n",
       " <CircuitRewrite at 0x112a4f070>]"
      ]
     },
     "execution_count": 14,
     "metadata": {},
     "output_type": "execute_result"
    }
   ],
   "source": [
    "class EmptyTwoQubitReplacer(CircuitReplacer):\n",
    "    def replace_match(self, circuit: Tk2Circuit, match_info: Any) -> list[Tk2Circuit]:\n",
    "        print(f\"match_info = {match_info}\")\n",
    "        return [Tk2Circuit(Circuit(2))]\n",
    "\n",
    "circ = Circuit(2).CX(0, 1).CX(0, 1).CX(1, 0).CX(1, 0)\n",
    "rewriter = MatchReplaceRewriter(TwoCXMatcher(), EmptyTwoQubitReplacer())\n",
    "rewriter.get_rewrites(Tk2Circuit(circ))"
   ]
  },
  {
   "cell_type": "markdown",
   "id": "1133a5f6",
   "metadata": {},
   "source": [
    "Perfect! This will be great for debugging.\n",
    "\n",
    "Speaking of which: we can see from the matches we get that there seem to be duplicate matches: we see four matches when there really should be only two. This is not an issue for correctness, the optimiser will always remove the duplicates, but it's not great for performance.\n",
    "\n",
    "Upon closer inspection of the debug information that we are printing, we see there is a new piece of data showing up in the `op_args` arguments when matching the second CX: the `op_args[i].linear_pos` field. This field contains information about the relative position of the operation with respect to previously matched operations. This only exists of course when operations have matched on the same qubit, which is why we didn't see it before. Using this data, we can fix our matcher to no longer produce duplicate matches:"
   ]
  },
  {
   "cell_type": "code",
   "execution_count": null,
   "id": "d250f47b",
   "metadata": {},
   "outputs": [
    {
     "name": "stdout",
     "output_type": "stream",
     "text": [
      "match_info = matched first CX: op_args = [CircuitUnit(linear_index=0), CircuitUnit(linear_index=1)]\n",
      "matched second CX: op_args = [CircuitUnit(linear_index=0, linear_pos=after), CircuitUnit(linear_index=1, linear_pos=after)]\n",
      "\n",
      "match_info = matched first CX: op_args = [CircuitUnit(linear_index=1), CircuitUnit(linear_index=0)]\n",
      "matched second CX: op_args = [CircuitUnit(linear_index=1, linear_pos=after), CircuitUnit(linear_index=0, linear_pos=after)]\n",
      "\n",
      "Num rewrites: 2\n"
     ]
    }
   ],
   "source": [
    "class TwoCXMatcher(CircuitMatcher):\n",
    "    def match_tket_op(\n",
    "        self, op: TketOp, op_args: list[CircuitUnit], context: MatchContext\n",
    "    ) -> MatchOutcome:\n",
    "        if not matches_op(op, PyTketOp.CX):\n",
    "            return {\"skip\": True}\n",
    "\n",
    "        # use the `match_info` dict key to track the qubit IDs matched previously\n",
    "        prev_matched_qubits = context[\"match_info\"]\n",
    "\n",
    "        match prev_matched_qubits:\n",
    "            case None:\n",
    "                # This is the first CX we matched, so we proceed to match the second.\n",
    "                qubits = [arg.linear_index for arg in op_args]\n",
    "                debug_info = f\"matched first CX: op_args = {op_args}\\n\"\n",
    "                return {\"proceed\": (qubits, debug_info)}\n",
    "            case ([ctrl_qubit, tgt_qubit], debug_info):\n",
    "                # Only match the second CX if it comes after the first CX on all qubits\n",
    "                if not all(arg.linear_pos == \"after\" for arg in op_args):\n",
    "                    return {\"skip\": True}\n",
    "\n",
    "                curr_qubits = [arg.linear_index for arg in op_args]\n",
    "                if curr_qubits == [ctrl_qubit, tgt_qubit]:\n",
    "                    # We have successfully matched two CXs, so we are done!\n",
    "                    debug_info += f\"matched second CX: op_args = {op_args}\\n\"\n",
    "                    return {\"complete\": debug_info}\n",
    "                else:\n",
    "                    # There cannot be another CX that suceeds the first matched CX\n",
    "                    # so we can terminate the matching process\n",
    "                    return\n",
    "\n",
    "circ = Circuit(2).CX(0, 1).CX(0, 1).CX(1, 0).CX(1, 0)\n",
    "rewriter = MatchReplaceRewriter(TwoCXMatcher(), EmptyTwoQubitReplacer())\n",
    "rewrites = rewriter.get_rewrites(Tk2Circuit(circ))\n",
    "print(f\"Num rewrites: {len(rewrites)}\")"
   ]
  },
  {
   "cell_type": "markdown",
   "id": "d60d39d8",
   "metadata": {},
   "source": [
    "Bingo!\n",
    "\n",
    "### Advanced features of matchers and replacers\n",
    "\n",
    "#### 1. Matching extension ops\n",
    "\n",
    "The `match_tket_op` method will not work on ops that TKET does not recognise. By default, if an op that is not a typical TKET gate is encountered, it will be silently ignored.\n",
    "\n",
    "To handle this case, the Matcher API provides the `match_extension_op` method:\n",
    "\n",
    "```python\n",
    "class CircuitMatcher:\n",
    "    ... \n",
    "\n",
    "    def match_extension_op(\n",
    "        self,\n",
    "        op: CustomOp,\n",
    "        inputs: List[CircuitUnit],\n",
    "        outputs: List[CircuitUnit],\n",
    "        context: MatchContext,\n",
    "    ) -> MatchOutcome:\n",
    "```\n",
    "\n",
    "This method is called instead of `match_tket_op` if the op is not a typical TKET gate and the optype is passed as a `tket.ops.CustomOp`. Matching of such custom ops can be done using the name property of `CustomOp`. Note that unlike `TketOp`s, for which a single list of arguments is passed, when matching `CustomOp`s, the matcher API distinguishes between `inputs` and `outputs` arguments (as unlike typical quantum gates, there is no guarantee that they are identical).\n",
    "\n",
    "I highly recommend checking out the docs of `tket.protocol.CircuitMatcher` for more details on this API.\n",
    "\n",
    "#### 2. Combining multiple matches to create a single rewrite\n",
    "\n",
    "It's important to keep in mind some of the limitations/design choices of the Matcher API. The Matcher will start by matching a single operation, and then attempt to expand a match to form a larger subcircuit, appending new operations to the beginning or the end of the previously matched subcircuit. This means in particular:\n",
    "\n",
    "1. The Matcher API only supports matching _connected_ subcircuits: from a single matching operation, an entire matched subcircuit is obtained by gradually expanding the boundary of the matched region.\n",
    "2. The matcher API will only let you match convex subcircuits: the optimiser will never extend a matched subcircuit to an additional operation if this would violate convexity. This gives you a guarantee that operations will be matched in a certain order (there won't be \"gaps\" during the matching process), but it is of course limiting in the expressivity of the matcher.\n",
    "\n",
    "There is a specific rewriter designed to alleviate the first limitation above: `CombineMatchReplaceRewriter`:"
   ]
  },
  {
   "cell_type": "code",
   "execution_count": null,
   "id": "1dce1f6c",
   "metadata": {},
   "outputs": [],
   "source": [
    "from tket.matcher import CombineMatchReplaceRewriter"
   ]
  },
  {
   "cell_type": "markdown",
   "id": "b8cae575",
   "metadata": {},
   "source": [
    "To recap, this brings the list of rewriters that we have seen to three:\n",
    "\n",
    "- `ECCRewriter`: generates rewrites that apply the typical commutation and gate cancellation rules for a given gate set.\n",
    "- `MatchReplaceRewriter`: combines a matcher and a replacer to create a new rewriter. The matcher and replacer can be chosen from the TKET-provided set of matchers and replacers, or custom ones can be implemented using the Matcher and Replacer APIs.\n",
    "- `CombineMatchReplaceRewriter`: similar to `MatchReplaceRewriter`, but allows you to combine multiple matchers to form subcircuit matches that are disconnected. The union of the matched subcircuits of the individual matchers will form the overall matched subcircuit that is passed to the replacer and used to construct the rewrite.\n",
    "\n",
    "#### 3. Using a custom cost function in `BadgerOptimiser`\n",
    "\n",
    "The optimiser used the default cost function so far, which is the number of CX gates. We can pass a custom cost function to be minimised. The cost function should be integer-valued, so a natural solution is to define a dict mapping op types to their cost.\n",
    "\n",
    "```python\n",
    "op_costs = { PyTketOp.CX: 1, PyTketOp.H: 2 }\n",
    "opt = BadgerOptimiser(transversal_hadamard, cost_fn=lambda op: op_costs[op.type])\n",
    "```\n",
    "\n",
    "#### Example: Matching transversal Hadamards\n",
    "\n",
    "Let's say we are interested in pairing up Hadamard gates if they appear on qubits 2k and 2k+1 for some k. We can implement this by combining a matcher matching Hadamard on even qubits with a matcher matching Hadamard on odd qubits:"
   ]
  },
  {
   "cell_type": "code",
   "execution_count": null,
   "id": "33b4e121",
   "metadata": {},
   "outputs": [],
   "source": [
    "class HadamardMatcher(CircuitMatcher):\n",
    "    match_even: bool\n",
    "\n",
    "    def __init__(self, match_even: bool):\n",
    "        self.match_even = match_even\n",
    "\n",
    "    def match_tket_op(self, op: TketOp, op_args: list[CircuitUnit], context: MatchContext) -> MatchOutcome:\n",
    "        if not matches_op(op, PyTketOp.H):\n",
    "            return\n",
    "\n",
    "        [qubit] = [arg.linear_index for arg in op_args]\n",
    "        if qubit % 2 == 0 and self.match_even:\n",
    "            return {\"complete\": qubit}\n",
    "        elif qubit % 2 == 1 and not self.match_even:\n",
    "            return {\"complete\": qubit}\n",
    "\n",
    "matcher_pair = [HadamardMatcher(True), HadamardMatcher(False)]"
   ]
  },
  {
   "cell_type": "markdown",
   "id": "2bd8f3e6",
   "metadata": {},
   "source": [
    "Now, in the replacer, we will get all pairs of Hadamards such that one was applied on an even qubit and the other on an odd qubit. We need to throw away the pairs that are not on adjacent qubits. We can do this by returning an empty list of rewrites in the non-adjacent case.\n",
    "\n",
    "This is as good a moment as any to observe that you can return as many (or as few) replacement circuits in the CircuitReplacer's `get_rewrites` method as you want: returning an empty list means that there is no valid substitution for the given match, returning multiple replacements means the optimiser must choose which one (if any) to apply.\n",
    "\n",
    "I don't know how to create custom op types at the moment, so I will just use a `CZ` gate as a placeholder for a two-qubit transversal Hadamard 😅"
   ]
  },
  {
   "cell_type": "code",
   "execution_count": null,
   "id": "5300019e",
   "metadata": {},
   "outputs": [
    {
     "ename": "NameError",
     "evalue": "name 'CircuitReplacer' is not defined",
     "output_type": "error",
     "traceback": [
      "\u001b[0;31m---------------------------------------------------------------------------\u001b[0m",
      "\u001b[0;31mNameError\u001b[0m                                 Traceback (most recent call last)",
      "Cell \u001b[0;32mIn[1], line 1\u001b[0m\n\u001b[0;32m----> 1\u001b[0m \u001b[38;5;28;01mclass\u001b[39;00m\u001b[38;5;250m \u001b[39m\u001b[38;5;21;01mTransversalHadamardReplacer\u001b[39;00m(\u001b[43mCircuitReplacer\u001b[49m):\n\u001b[1;32m      2\u001b[0m     \u001b[38;5;28;01mdef\u001b[39;00m\u001b[38;5;250m \u001b[39m\u001b[38;5;21mreplace_match\u001b[39m(\u001b[38;5;28mself\u001b[39m, circuit: Tk2Circuit, match_info: Any) \u001b[38;5;241m-\u001b[39m\u001b[38;5;241m>\u001b[39m \u001b[38;5;28mlist\u001b[39m[Tk2Circuit]:\n\u001b[1;32m      3\u001b[0m         \u001b[38;5;66;03m# the two values returned by the matchers are passed in match_info\u001b[39;00m\n\u001b[1;32m      4\u001b[0m         [qubit1, qubit2] \u001b[38;5;241m=\u001b[39m match_info\n",
      "\u001b[0;31mNameError\u001b[0m: name 'CircuitReplacer' is not defined"
     ]
    }
   ],
   "source": [
    "class TransversalHadamardReplacer(CircuitReplacer):\n",
    "    def replace_match(self, circuit: Tk2Circuit, match_info: Any) -> list[Tk2Circuit]:\n",
    "        # the two values returned by the matchers are passed in match_info\n",
    "        [qubit1, qubit2] = match_info\n",
    "\n",
    "        if qubit1 + 1 == qubit2:\n",
    "            return [Tk2Circuit(Circuit(2).CZ(0, 1))]\n",
    "        else:\n",
    "            return []\n",
    "\n",
    "transversal_hadamard = CombineMatchReplaceRewriter(matcher_pair, TransversalHadamardReplacer())\n",
    "\n",
    "circ = Circuit(4).H(0).H(1).H(2).H(3).H(0).CX(0, 1).H(1)\n",
    "\n",
    "render_circuit_jupyter(circ)\n",
    "\n",
    "opt = BadgerOptimiser(transversal_hadamard, cost_fn=lambda op: 0 if matches_op(op, PyTketOp.CZ) else 1 )\n",
    "opt_circ = opt.optimise(circ)\n",
    "\n",
    "render_circuit_jupyter(opt_circ)\n",
    "\n",
    "\n"
   ]
  },
  {
   "cell_type": "markdown",
   "id": "12dd20c7",
   "metadata": {},
   "source": [
    "To make the optimiser perform the rewrites (and introduce the new CZ gates), we had to change the cost function: we made CZ gates free, and every other gate cost 1 (unfortunately negative costs are not supported at the moment).\n",
    "\n",
    "Finally, note that the remaining two Hadamards were not matched up: that is because they are split by a CX gate, and thus the matched subcircuit would not be convex (it would also lead to an invalid circuit if the two Hadamards were replaced by a CZ gate).\n",
    "\n",
    "Important caveat: the rewriter infrastructure was not designed for disconnected matches. There can be cases for which the rewriting will fail. In that case, the rewrite will be ignored and a warning should be printed out alerting to you to the fact that certain rewrites could not be performed. Let me know if you encounter this or any other issues, and how much of an issue it is for you.\n",
    "\n",
    "Will fix what comes up!"
   ]
  },
  {
   "cell_type": "markdown",
   "id": "5362fc56",
   "metadata": {},
   "source": [
    "### A fully fledged example\n",
    "\n",
    "I am copying over the example from the previous notebook here, in case having a fully working example is useful for getting started.\n",
    "The only \"interesting\" thing about this example is that mulitple rewriters are used in parallel, by defining the optimiser as\n",
    "```python\n",
    "opt = BadgerOptimiser([cancel_cx, flip_zzphase])\n",
    "```\n",
    "\n",
    "---\n",
    "\n",
    "To complete this notebook, we will implement a slightly more interesting optimisation, which combines CX cancellation as above with ZZPhase flipping.\n",
    "\n",
    "The `flip_zzphase` rewriter is composed of the `ZZPhaseMatcher` and `FlippedZZPhase` replacer:"
   ]
  },
  {
   "cell_type": "code",
   "execution_count": null,
   "id": "7feb35f9",
   "metadata": {},
   "outputs": [],
   "source": [
    "from typing import Literal\n",
    "\n",
    "def succeeds_previous_op(op_args: list[CircuitUnit]) -> bool:\n",
    "    \"\"\"Whether this current op is in the future of previously matched ops.\"\"\"\n",
    "    return all(arg.linear_pos in [\"after\", None] for arg in op_args)\n",
    "\n",
    "# This reuses the TwoCXMatcher from above\n",
    "cancel_cx = MatchReplaceRewriter(TwoCXMatcher(), ReplaceWithIdentity())\n",
    "\n",
    "MatchState = None \\\n",
    "    | tuple[Literal[\"matched_first_cx\"], int, int]\\\n",
    "    | tuple[Literal[\"matched_rotation\"], int, int, float]\n",
    "\n",
    "class ZZPhaseMatcher(CircuitMatcher):\n",
    "    def match_tket_op(\n",
    "        self, op: TketOp, op_args: list[CircuitUnit], context: MatchContext\n",
    "    ) -> MatchOutcome:\n",
    "        state: MatchState = context[\"match_info\"]\n",
    "\n",
    "        match state:\n",
    "            case None:\n",
    "                # We are looking for a CX\n",
    "                if matches_op(op, PyTketOp.CX):\n",
    "                    # This is the first matched op, so the relative position of\n",
    "                    # the qubits with respect to the already matched subcircuit\n",
    "                    # is not yet known.\n",
    "                    [ctrl_qubit, tgt_qubit] = [arg.linear_index for arg in op_args]\n",
    "                    assert all(arg.linear_pos is None for arg in op_args)\n",
    "\n",
    "                    return {\n",
    "                        \"proceed\": (\"matched_first_cx\", ctrl_qubit, tgt_qubit)\n",
    "                    }\n",
    "                else:\n",
    "                    return { \"stop\": True }\n",
    "            case (\"matched_first_cx\", ctrl_qubit, tgt_qubit):\n",
    "                # must come after the first CX\n",
    "                if not succeeds_previous_op(op_args):\n",
    "                    return { \"skip\": True }\n",
    "\n",
    "                # We are looking for a rotation\n",
    "                if matches_op(op, PyTketOp.Rz) and op_args[0].linear_index == tgt_qubit \\\n",
    "                                               and op_args[1].constant_float is not None:\n",
    "                    rot_angle = op_args[1].constant_float\n",
    "                    return {\n",
    "                        \"proceed\": (\"matched_rotation\", ctrl_qubit, tgt_qubit, rot_angle)\n",
    "                    }\n",
    "                else:\n",
    "                    return { \"skip\": True }\n",
    "            case (\"matched_rotation\", ctrl_qubit, tgt_qubit, rot_angle):\n",
    "                # must come after the first CX and the rotation\n",
    "                if not succeeds_previous_op(op_args):\n",
    "                    return { \"skip\": True }\n",
    "\n",
    "                # We are looking for a second CX\n",
    "                if matches_op(op, PyTketOp.CX) and [arg.linear_index for arg in op_args] == [ctrl_qubit, tgt_qubit]:\n",
    "                    return { \"complete\": rot_angle }\n",
    "                else:\n",
    "                    return { \"skip\": True }\n",
    "\n",
    "class FlippedZZPhase(CircuitReplacer):\n",
    "    def replace_match(self, circuit: Tk2Circuit, match_info: float) -> list[Tk2Circuit]:\n",
    "        assert circuit.to_tket1().n_qubits == 2\n",
    "\n",
    "        flipped_circ = Circuit(2).CX(1, 0).Rz(match_info, 0).CX(1, 0)\n",
    "        # zzphase_circ = Circuit(2).CX(0, 1).Rz(match_info, 1).CX(0, 1)\n",
    "        return [Tk2Circuit(flipped_circ)]\n",
    "\n",
    "assert isinstance(ZZPhaseMatcher(), CircuitMatcher)\n",
    "assert isinstance(FlippedZZPhase(), CircuitReplacer)\n",
    "\n",
    "flip_zzphase = MatchReplaceRewriter(ZZPhaseMatcher(), FlippedZZPhase())"
   ]
  },
  {
   "cell_type": "markdown",
   "id": "6e4d62a0",
   "metadata": {},
   "source": [
    "We would like to combine `flip_zzphase` with `cancel_cx` to optimise the following circuit:"
   ]
  },
  {
   "cell_type": "code",
   "execution_count": null,
   "id": "425621ee",
   "metadata": {},
   "outputs": [
    {
     "data": {
      "text/html": [
       "\n",
       "\n",
       "\n",
       "\n",
       "\n",
       "\n",
       "<div style=\"resize: vertical; overflow: auto; height: 400px; display: block\">\n",
       "    <iframe srcdoc=\"\n",
       "&lt;!DOCTYPE html&gt;\n",
       "&lt;html lang=&#34;en&#34;&gt;\n",
       "&lt;head&gt;\n",
       "    &lt;meta charset=&#34;UTF-8&#34;&gt;\n",
       "    &lt;!-- Download Vue 3--&gt;\n",
       "&lt;script type=&#34;application/javascript&#34; src=&#34;https://cdn.jsdelivr.net/npm/vue@3&#34;&gt;&lt;/script&gt;\n",
       "&lt;!-- Download Circuit Renderer with styles --&gt;\n",
       "&lt;script type=&#34;application/javascript&#34; src=&#34;https://unpkg.com/pytket-circuit-renderer@0.10/dist/pytket-circuit-renderer.umd.js&#34;&gt;&lt;/script&gt;\n",
       "&lt;link rel=&#34;stylesheet&#34; href=&#34;https://unpkg.com/pytket-circuit-renderer@0.10/dist/pytket-circuit-renderer.css&#34;&gt;\n",
       "&lt;/head&gt;\n",
       "&lt;body&gt;\n",
       "\n",
       "\n",
       "    &lt;div id=&#34;circuit-display-vue-container-f88b048a-03a8-4bfa-b734-7d413306c7da&#34; class=&#34;pytket-circuit-display-container&#34;&gt;\n",
       "        &lt;div style=&#34;display: none&#34;&gt;\n",
       "            &lt;div id=&#34;circuit-json-to-display&#34;&gt;{&#34;bits&#34;: [], &#34;commands&#34;: [{&#34;args&#34;: [[&#34;q&#34;, [0]], [&#34;q&#34;, [1]]], &#34;op&#34;: {&#34;type&#34;: &#34;CX&#34;}}, {&#34;args&#34;: [[&#34;q&#34;, [0]], [&#34;q&#34;, [1]]], &#34;op&#34;: {&#34;type&#34;: &#34;CX&#34;}}, {&#34;args&#34;: [[&#34;q&#34;, [1]]], &#34;op&#34;: {&#34;params&#34;: [&#34;0.111&#34;], &#34;type&#34;: &#34;Rz&#34;}}, {&#34;args&#34;: [[&#34;q&#34;, [0]], [&#34;q&#34;, [1]]], &#34;op&#34;: {&#34;type&#34;: &#34;CX&#34;}}, {&#34;args&#34;: [[&#34;q&#34;, [2]], [&#34;q&#34;, [0]]], &#34;op&#34;: {&#34;type&#34;: &#34;CX&#34;}}, {&#34;args&#34;: [[&#34;q&#34;, [0]], [&#34;q&#34;, [2]]], &#34;op&#34;: {&#34;type&#34;: &#34;CX&#34;}}, {&#34;args&#34;: [[&#34;q&#34;, [2]]], &#34;op&#34;: {&#34;params&#34;: [&#34;0.5&#34;], &#34;type&#34;: &#34;Rz&#34;}}, {&#34;args&#34;: [[&#34;q&#34;, [0]], [&#34;q&#34;, [2]]], &#34;op&#34;: {&#34;type&#34;: &#34;CX&#34;}}], &#34;created_qubits&#34;: [], &#34;discarded_qubits&#34;: [], &#34;implicit_permutation&#34;: [[[&#34;q&#34;, [0]], [&#34;q&#34;, [0]]], [[&#34;q&#34;, [1]], [&#34;q&#34;, [1]]], [[&#34;q&#34;, [2]], [&#34;q&#34;, [2]]]], &#34;phase&#34;: &#34;0.0&#34;, &#34;qubits&#34;: [[&#34;q&#34;, [0]], [&#34;q&#34;, [1]], [&#34;q&#34;, [2]]]}&lt;/div&gt;\n",
       "        &lt;/div&gt;\n",
       "        &lt;circuit-display-container\n",
       "                :circuit-element-str=&#34;&#39;#circuit-json-to-display&#39;&#34;\n",
       "                :init-render-options=&#34;initRenderOptions&#34;\n",
       "                view-format=&#34;None&#34;\n",
       "        &gt;&lt;/circuit-display-container&gt;\n",
       "    &lt;/div&gt;\n",
       "    &lt;script type=&#34;application/javascript&#34;&gt;\n",
       "      const circuitRendererUid = &#34;f88b048a-03a8-4bfa-b734-7d413306c7da&#34;;\n",
       "      const displayOptions = JSON.parse(&#39;{}&#39;);\n",
       "\n",
       "      // Script to initialise the circuit renderer app\n",
       "\n",
       "const { createApp } = Vue;\n",
       "const circuitDisplayContainer = window[&#34;pytket-circuit-renderer&#34;].default;\n",
       "// Init variables to be shared between circuit display instances\n",
       "if (typeof window.pytketCircuitDisplays === &#34;undefined&#34;) {\n",
       "    window.pytketCircuitDisplays = {};\n",
       "}\n",
       "// Create the root Vue component\n",
       "const app = createApp({\n",
       "    delimiters: [&#39;[[#&#39;, &#39;#]]&#39;],\n",
       "    components: { circuitDisplayContainer },\n",
       "    data () {\n",
       "      return {\n",
       "        initRenderOptions: displayOptions,\n",
       "      }\n",
       "    }\n",
       "})\n",
       "app.config.unwrapInjectedRef = true;\n",
       "app.mount(&#34;#circuit-display-vue-container-&#34;+circuitRendererUid);\n",
       "window.pytketCircuitDisplays[circuitRendererUid] = app;\n",
       "    &lt;/script&gt;\n",
       "\n",
       "\n",
       "\n",
       "&lt;/body&gt;\n",
       "&lt;/html&gt;\n",
       "\"\n",
       "            width=\"100%\" height=\"100%\"\n",
       "            style=\"border: none; outline: none; overflow: auto\"></iframe>\n",
       "</div>\n",
       "\n"
      ],
      "text/plain": [
       "<IPython.core.display.HTML object>"
      ]
     },
     "metadata": {},
     "output_type": "display_data"
    }
   ],
   "source": [
    "circ = Circuit(3).CX(0, 1).CX(0, 1).Rz(0.111, 1).CX(0, 1).CX(2, 0).CX(0, 2).Rz(0.5, 2).CX(0, 2)\n",
    "\n",
    "assert len(flip_zzphase.get_rewrites(Tk2Circuit(circ))) == 2\n",
    "\n",
    "render_circuit_jupyter(circ)"
   ]
  },
  {
   "cell_type": "markdown",
   "id": "edabcd21",
   "metadata": {},
   "source": [
    "Note that the order in which the rewrites should be performed is important in this case: if we apply all zzphase flips first, then the first two CX gates will no longer cancel out.\n",
    "\n",
    "The badger optimiser is smart: it will always find the best sequence of rewrites to minimise CX count. In this case, it will thus cancel the first two CX gates, then flip the ZZPhase at the end of the circuit before cancelling the resulting two CXs in the middle of the circuit:"
   ]
  },
  {
   "cell_type": "code",
   "execution_count": null,
   "id": "b1816598",
   "metadata": {},
   "outputs": [
    {
     "data": {
      "text/html": [
       "\n",
       "\n",
       "\n",
       "\n",
       "\n",
       "\n",
       "<div style=\"resize: vertical; overflow: auto; height: 400px; display: block\">\n",
       "    <iframe srcdoc=\"\n",
       "&lt;!DOCTYPE html&gt;\n",
       "&lt;html lang=&#34;en&#34;&gt;\n",
       "&lt;head&gt;\n",
       "    &lt;meta charset=&#34;UTF-8&#34;&gt;\n",
       "    &lt;!-- Download Vue 3--&gt;\n",
       "&lt;script type=&#34;application/javascript&#34; src=&#34;https://cdn.jsdelivr.net/npm/vue@3&#34;&gt;&lt;/script&gt;\n",
       "&lt;!-- Download Circuit Renderer with styles --&gt;\n",
       "&lt;script type=&#34;application/javascript&#34; src=&#34;https://unpkg.com/pytket-circuit-renderer@0.10/dist/pytket-circuit-renderer.umd.js&#34;&gt;&lt;/script&gt;\n",
       "&lt;link rel=&#34;stylesheet&#34; href=&#34;https://unpkg.com/pytket-circuit-renderer@0.10/dist/pytket-circuit-renderer.css&#34;&gt;\n",
       "&lt;/head&gt;\n",
       "&lt;body&gt;\n",
       "\n",
       "\n",
       "    &lt;div id=&#34;circuit-display-vue-container-dfd07c03-18d6-4f2f-86a5-636969122cf5&#34; class=&#34;pytket-circuit-display-container&#34;&gt;\n",
       "        &lt;div style=&#34;display: none&#34;&gt;\n",
       "            &lt;div id=&#34;circuit-json-to-display&#34;&gt;{&#34;bits&#34;: [], &#34;commands&#34;: [{&#34;args&#34;: [[&#34;q&#34;, [1]]], &#34;op&#34;: {&#34;params&#34;: [&#34;0.111&#34;], &#34;type&#34;: &#34;Rz&#34;}}, {&#34;args&#34;: [[&#34;q&#34;, [0]], [&#34;q&#34;, [1]]], &#34;op&#34;: {&#34;type&#34;: &#34;CX&#34;}}, {&#34;args&#34;: [[&#34;q&#34;, [0]]], &#34;op&#34;: {&#34;params&#34;: [&#34;0.5&#34;], &#34;type&#34;: &#34;Rz&#34;}}, {&#34;args&#34;: [[&#34;q&#34;, [2]], [&#34;q&#34;, [0]]], &#34;op&#34;: {&#34;type&#34;: &#34;CX&#34;}}], &#34;created_qubits&#34;: [], &#34;discarded_qubits&#34;: [], &#34;implicit_permutation&#34;: [[[&#34;q&#34;, [0]], [&#34;q&#34;, [0]]], [[&#34;q&#34;, [1]], [&#34;q&#34;, [1]]], [[&#34;q&#34;, [2]], [&#34;q&#34;, [2]]]], &#34;phase&#34;: &#34;0.0&#34;, &#34;qubits&#34;: [[&#34;q&#34;, [0]], [&#34;q&#34;, [1]], [&#34;q&#34;, [2]]]}&lt;/div&gt;\n",
       "        &lt;/div&gt;\n",
       "        &lt;circuit-display-container\n",
       "                :circuit-element-str=&#34;&#39;#circuit-json-to-display&#39;&#34;\n",
       "                :init-render-options=&#34;initRenderOptions&#34;\n",
       "                view-format=&#34;None&#34;\n",
       "        &gt;&lt;/circuit-display-container&gt;\n",
       "    &lt;/div&gt;\n",
       "    &lt;script type=&#34;application/javascript&#34;&gt;\n",
       "      const circuitRendererUid = &#34;dfd07c03-18d6-4f2f-86a5-636969122cf5&#34;;\n",
       "      const displayOptions = JSON.parse(&#39;{}&#39;);\n",
       "\n",
       "      // Script to initialise the circuit renderer app\n",
       "\n",
       "const { createApp } = Vue;\n",
       "const circuitDisplayContainer = window[&#34;pytket-circuit-renderer&#34;].default;\n",
       "// Init variables to be shared between circuit display instances\n",
       "if (typeof window.pytketCircuitDisplays === &#34;undefined&#34;) {\n",
       "    window.pytketCircuitDisplays = {};\n",
       "}\n",
       "// Create the root Vue component\n",
       "const app = createApp({\n",
       "    delimiters: [&#39;[[#&#39;, &#39;#]]&#39;],\n",
       "    components: { circuitDisplayContainer },\n",
       "    data () {\n",
       "      return {\n",
       "        initRenderOptions: displayOptions,\n",
       "      }\n",
       "    }\n",
       "})\n",
       "app.config.unwrapInjectedRef = true;\n",
       "app.mount(&#34;#circuit-display-vue-container-&#34;+circuitRendererUid);\n",
       "window.pytketCircuitDisplays[circuitRendererUid] = app;\n",
       "    &lt;/script&gt;\n",
       "\n",
       "\n",
       "\n",
       "&lt;/body&gt;\n",
       "&lt;/html&gt;\n",
       "\"\n",
       "            width=\"100%\" height=\"100%\"\n",
       "            style=\"border: none; outline: none; overflow: auto\"></iframe>\n",
       "</div>\n",
       "\n"
      ],
      "text/plain": [
       "<IPython.core.display.HTML object>"
      ]
     },
     "metadata": {},
     "output_type": "display_data"
    }
   ],
   "source": [
    "opt = BadgerOptimiser([cancel_cx, flip_zzphase])\n",
    "opt_circ = opt.optimise(circ)\n",
    "\n",
    "assert opt_circ.n_gates_of_type(OpType.CX) == 2\n",
    "\n",
    "render_circuit_jupyter(opt_circ)"
   ]
  }
 ],
 "metadata": {
  "kernelspec": {
   "display_name": "tket2",
   "language": "python",
   "name": "python3"
  },
  "language_info": {
   "codemirror_mode": {
    "name": "ipython",
    "version": 3
   },
   "file_extension": ".py",
   "mimetype": "text/x-python",
   "name": "python",
   "nbconvert_exporter": "python",
   "pygments_lexer": "ipython3",
   "version": "3.10.16"
  }
 },
 "nbformat": 4,
 "nbformat_minor": 5
}
