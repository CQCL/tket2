{
 "cells": [
  {
   "cell_type": "markdown",
   "id": "fa787b25",
   "metadata": {},
   "source": [
    "# Advanced pattern matching and rewriting\n",
    "\n",
    "In the previous notebook, we saw how to define rewrite rules that look for\n",
    "instances of a given pattern in a circuit, and replace them with a given replacement.\n",
    "\n",
    "In this notebook, we will see generalise that approach by defining custom pattern matchers and replacers.\n",
    "\n",
    "_Note: This is currently unreleased and requires to build the tket-py crate from source in the branch `lm/pyinterface`. Activate a Python virtual environment of your choice, then `pip install maturin` and run `maturin develop` from the `./tket-py` directory._"
   ]
  },
  {
   "cell_type": "code",
   "execution_count": 1,
   "id": "72416be4",
   "metadata": {},
   "outputs": [],
   "source": [
    "from pytket import Circuit, OpType\n",
    "from pytket.circuit.display import render_circuit_jupyter\n",
    "\n",
    "from tket._tket.ops import (\n",
    "    TketOp,\n",
    ")  # Note that we are importing the \"wrong\" TketOp, see issue https://github.com/CQCL/tket2/issues/1027\n",
    "from tket.ops import TketOp as PyTketOp # This would be the \"correct\" TketOp\n",
    "from tket.circuit import Tk2Circuit\n",
    "\n",
    "# TODO: remove this\n",
    "def matches_op(op: TketOp, op2: PyTketOp) -> bool:\n",
    "    return op == op2._to_rs()"
   ]
  },
  {
   "cell_type": "markdown",
   "id": "accec471",
   "metadata": {},
   "source": [
    "### Matchers and replacers\n",
    "\n",
    "The two core concepts that allow custom rewriting are:\n",
    "\n",
    "- A `CircuitMatcher`: an object that defines what patterns to match. It takes operations matched so far and a new operation and must decide if the new operation should be added to the match.\n",
    "- A `CircuitReplacer`: an object that returns all possible replacements for a matched circuit. Given a matched pattern, it should return a list of circuits that are the result of the replacement.\n",
    "\n",
    "The API that these two objects must implement is given by Python protocols,\n",
    "that can be imported from `tket.protocol`:\n"
   ]
  },
  {
   "cell_type": "code",
   "execution_count": 2,
   "id": "69e4d4bd",
   "metadata": {},
   "outputs": [],
   "source": [
    "from tket.protocol import CircuitMatcher, CircuitReplacer"
   ]
  },
  {
   "cell_type": "markdown",
   "id": "013147a5",
   "metadata": {},
   "source": [
    "### tket-provided matchers and replacers\n",
    "\n",
    "TKET provides built-in matchers and replacers for common patterns.\n",
    "\n",
    "Currently there are (these are dummy examples, to be expanded!)\n",
    "- one matcher: the `RotationMatcher`, which matches any rotation gate, and\n",
    "- one replacer: `ReplaceWithIdentity`, which replaces a circuit with the identity circuit with the same number of qubits."
   ]
  },
  {
   "cell_type": "code",
   "execution_count": 3,
   "id": "42ee87a7",
   "metadata": {},
   "outputs": [
    {
     "name": "stdout",
     "output_type": "stream",
     "text": [
      "RotationMatcher is a CircuitMatcher: True\n",
      "ReplaceWithIdentity is a CircuitReplacer: True\n"
     ]
    }
   ],
   "source": [
    "from tket.matcher import RotationMatcher, ReplaceWithIdentity\n",
    "\n",
    "print(\"RotationMatcher is a CircuitMatcher:\", isinstance(RotationMatcher(), CircuitMatcher))\n",
    "print(\"ReplaceWithIdentity is a CircuitReplacer:\", isinstance(ReplaceWithIdentity(), CircuitReplacer))"
   ]
  },
  {
   "cell_type": "markdown",
   "id": "bd66222d",
   "metadata": {},
   "source": [
    "Matchers and rewrites are combined together into a Rewriter (similar to the rewriters created in the previous notebook), using the `MatchReplaceRewriter` class. Creating a rewriter that removes all rotation gates in a circuit is as simple as:"
   ]
  },
  {
   "cell_type": "code",
   "execution_count": 4,
   "id": "50b3760a",
   "metadata": {},
   "outputs": [],
   "source": [
    "from tket.matcher import MatchReplaceRewriter\n",
    "\n",
    "rewriter = MatchReplaceRewriter(RotationMatcher(), ReplaceWithIdentity())"
   ]
  },
  {
   "cell_type": "markdown",
   "id": "19213e33",
   "metadata": {},
   "source": [
    "To run the rewriter repeatedly on a circuit, we use the Badger optimiser:"
   ]
  },
  {
   "cell_type": "code",
   "execution_count": 5,
   "id": "049682b6",
   "metadata": {},
   "outputs": [
    {
     "data": {
      "text/html": [
       "\n",
       "\n",
       "\n",
       "\n",
       "\n",
       "\n",
       "<div style=\"resize: vertical; overflow: auto; height: 400px; display: block\">\n",
       "    <iframe srcdoc=\"\n",
       "&lt;!DOCTYPE html&gt;\n",
       "&lt;html lang=&#34;en&#34;&gt;\n",
       "&lt;head&gt;\n",
       "    &lt;meta charset=&#34;UTF-8&#34;&gt;\n",
       "    &lt;!-- Download Vue 3--&gt;\n",
       "&lt;script type=&#34;application/javascript&#34; src=&#34;https://cdn.jsdelivr.net/npm/vue@3&#34;&gt;&lt;/script&gt;\n",
       "&lt;!-- Download Circuit Renderer with styles --&gt;\n",
       "&lt;script type=&#34;application/javascript&#34; src=&#34;https://unpkg.com/pytket-circuit-renderer@0.10/dist/pytket-circuit-renderer.umd.js&#34;&gt;&lt;/script&gt;\n",
       "&lt;link rel=&#34;stylesheet&#34; href=&#34;https://unpkg.com/pytket-circuit-renderer@0.10/dist/pytket-circuit-renderer.css&#34;&gt;\n",
       "&lt;/head&gt;\n",
       "&lt;body&gt;\n",
       "\n",
       "\n",
       "    &lt;div id=&#34;circuit-display-vue-container-1644109d-e7ae-49df-974f-6c8784c44f81&#34; class=&#34;pytket-circuit-display-container&#34;&gt;\n",
       "        &lt;div style=&#34;display: none&#34;&gt;\n",
       "            &lt;div id=&#34;circuit-json-to-display&#34;&gt;{&#34;bits&#34;: [], &#34;commands&#34;: [{&#34;args&#34;: [[&#34;q&#34;, [0]], [&#34;q&#34;, [1]]], &#34;op&#34;: {&#34;type&#34;: &#34;CX&#34;}}, {&#34;args&#34;: [[&#34;q&#34;, [0]], [&#34;q&#34;, [1]]], &#34;op&#34;: {&#34;type&#34;: &#34;CX&#34;}}], &#34;created_qubits&#34;: [], &#34;discarded_qubits&#34;: [], &#34;implicit_permutation&#34;: [[[&#34;q&#34;, [0]], [&#34;q&#34;, [0]]], [[&#34;q&#34;, [1]], [&#34;q&#34;, [1]]]], &#34;phase&#34;: &#34;0.0&#34;, &#34;qubits&#34;: [[&#34;q&#34;, [0]], [&#34;q&#34;, [1]]]}&lt;/div&gt;\n",
       "        &lt;/div&gt;\n",
       "        &lt;circuit-display-container\n",
       "                :circuit-element-str=&#34;&#39;#circuit-json-to-display&#39;&#34;\n",
       "                :init-render-options=&#34;initRenderOptions&#34;\n",
       "                view-format=&#34;None&#34;\n",
       "        &gt;&lt;/circuit-display-container&gt;\n",
       "    &lt;/div&gt;\n",
       "    &lt;script type=&#34;application/javascript&#34;&gt;\n",
       "      const circuitRendererUid = &#34;1644109d-e7ae-49df-974f-6c8784c44f81&#34;;\n",
       "      const displayOptions = JSON.parse(&#39;{}&#39;);\n",
       "\n",
       "      // Script to initialise the circuit renderer app\n",
       "\n",
       "const { createApp } = Vue;\n",
       "const circuitDisplayContainer = window[&#34;pytket-circuit-renderer&#34;].default;\n",
       "// Init variables to be shared between circuit display instances\n",
       "if (typeof window.pytketCircuitDisplays === &#34;undefined&#34;) {\n",
       "    window.pytketCircuitDisplays = {};\n",
       "}\n",
       "// Create the root Vue component\n",
       "const app = createApp({\n",
       "    delimiters: [&#39;[[#&#39;, &#39;#]]&#39;],\n",
       "    components: { circuitDisplayContainer },\n",
       "    data () {\n",
       "      return {\n",
       "        initRenderOptions: displayOptions,\n",
       "      }\n",
       "    }\n",
       "})\n",
       "app.config.unwrapInjectedRef = true;\n",
       "app.mount(&#34;#circuit-display-vue-container-&#34;+circuitRendererUid);\n",
       "window.pytketCircuitDisplays[circuitRendererUid] = app;\n",
       "    &lt;/script&gt;\n",
       "\n",
       "\n",
       "\n",
       "&lt;/body&gt;\n",
       "&lt;/html&gt;\n",
       "\"\n",
       "            width=\"100%\" height=\"100%\"\n",
       "            style=\"border: none; outline: none; overflow: auto\"></iframe>\n",
       "</div>\n",
       "\n"
      ],
      "text/plain": [
       "<IPython.core.display.HTML object>"
      ]
     },
     "metadata": {},
     "output_type": "display_data"
    }
   ],
   "source": [
    "from tket.optimiser import BadgerOptimiser\n",
    "\n",
    "circ = Circuit(2).CX(0, 1).Rz(0.2, 0).Rx(0.1, 1).CX(0, 1)\n",
    "\n",
    "opt = BadgerOptimiser(rewriter)\n",
    "no_rot_circ = opt.optimise(circ)\n",
    "\n",
    "render_circuit_jupyter(no_rot_circ)"
   ]
  },
  {
   "cell_type": "markdown",
   "id": "c7456f7a",
   "metadata": {},
   "source": [
    "### Implementing custom matchers and replacers in Python\n",
    "\n",
    "It is just as easy to implement custom matchers and replacers in Python. We just need to define\n",
    "a class that implements the respective protocol.  We can for example\n",
    "define a matcher that finds any sequence of two CNOT gates as follows"
   ]
  },
  {
   "cell_type": "code",
   "execution_count": 6,
   "id": "a899b716",
   "metadata": {},
   "outputs": [],
   "source": [
    "from tket.matcher import MatchOutcome, MatchContext, CircuitUnit\n",
    "from typing import Any\n",
    "\n",
    "def succeeds_previous_op(op_args: list[CircuitUnit]) -> bool:\n",
    "    \"\"\"Whether this current op is in the future of previously matched ops.\"\"\"\n",
    "    return all(arg.linear_pos in [\"after\", None] for arg in op_args)\n",
    "\n",
    "class TwoCXMatcher:\n",
    "    def match_tket_op(\n",
    "        self, op: TketOp, op_args: list[CircuitUnit], context: MatchContext\n",
    "    ) -> MatchOutcome:\n",
    "        # We are only interested in CXs\n",
    "        if not matches_op(op, PyTketOp.CX):\n",
    "            return { \"stop\": True }\n",
    "        \n",
    "        # use the `match_info` dict key to track the number of CXs matched so far\n",
    "        prev_matched_cx = context[\"match_info\"]\n",
    "\n",
    "        if prev_matched_cx is not None and not succeeds_previous_op(op_args):\n",
    "            # The second CX we match should come AFTER the first and on the same\n",
    "            # qubits. If the current op is not after the previous CX on all\n",
    "            # qubits, we are not interested.\n",
    "            return { \"skip\": True }\n",
    "        \n",
    "\n",
    "        if prev_matched_cx is None:\n",
    "            # This is the first CX we matched, so we proceed to match the second.\n",
    "            match op_args:\n",
    "                case [CircuitUnit(linear_index=ctrl), CircuitUnit(linear_index=tgt)]:\n",
    "                    return { \"proceed\": (ctrl, tgt) }\n",
    "                case _:\n",
    "                    raise ValueError(f\"Unexpected op args: {op_args}\")\n",
    "        else:\n",
    "            match op_args:\n",
    "                case [CircuitUnit(linear_index=snd_ctrl), CircuitUnit(linear_index=snd_tgt)]:\n",
    "                    if prev_matched_cx == (snd_ctrl, snd_tgt):\n",
    "                        # We have successfully matched two CXs, so we are done!\n",
    "                        return { \"complete\": True }\n",
    "                    else:\n",
    "                        # The second CX is upside down, so we are not interested.\n",
    "                        return { \"stop\": True }\n",
    "                case _:\n",
    "                    raise ValueError(f\"Unexpected op args: {op_args}\")\n",
    "        \n",
    "\n",
    "assert isinstance(TwoCXMatcher(), CircuitMatcher)"
   ]
  },
  {
   "cell_type": "markdown",
   "id": "167d1888",
   "metadata": {},
   "source": [
    "As expected, if we combine this with the `ReplaceWithIdentity` rewriter and apply it to the circuit with two CXs,\n",
    "we get the empty circuit."
   ]
  },
  {
   "cell_type": "code",
   "execution_count": 7,
   "id": "280430f0",
   "metadata": {},
   "outputs": [],
   "source": [
    "cancel_cx = MatchReplaceRewriter(TwoCXMatcher(), ReplaceWithIdentity())\n",
    "\n",
    "opt = BadgerOptimiser(cancel_cx)\n",
    "empty_circ = opt.optimise(no_rot_circ)\n",
    "\n",
    "assert empty_circ == Circuit(2)"
   ]
  },
  {
   "cell_type": "markdown",
   "id": "4c56fd23",
   "metadata": {},
   "source": [
    "Observe that thanks to the `succeeds_previous_op` check, this matcher will not match two CX if they are not on the same qubits. Neither will it match two CXs on the same qubits, but with controls and targets swapped:"
   ]
  },
  {
   "cell_type": "code",
   "execution_count": 8,
   "id": "7c575927",
   "metadata": {},
   "outputs": [],
   "source": [
    "circ = Circuit(3).CX(0, 1).CX(1, 2).CX(2, 1)\n",
    "\n",
    "opt = BadgerOptimiser(cancel_cx)\n",
    "same_circ = opt.optimise(circ)\n",
    "\n",
    "assert same_circ == circ"
   ]
  },
  {
   "cell_type": "markdown",
   "id": "5362fc56",
   "metadata": {},
   "source": [
    "### A fully fledged example\n",
    "\n",
    "To complete this notebook, we will implement a slightly more interesting optimisation, which combines CX cancellation as above with ZZPhase flipping.\n",
    "\n",
    "The `flip_zzphase` rewriter is composed of the `ZZPhaseMatcher` and `FlippedZZPhase` replacer:"
   ]
  },
  {
   "cell_type": "code",
   "execution_count": 9,
   "id": "7feb35f9",
   "metadata": {},
   "outputs": [],
   "source": [
    "from typing import Literal\n",
    "\n",
    "MatchState = None \\\n",
    "    | tuple[Literal[\"matched_first_cx\"], int, int]\\\n",
    "    | tuple[Literal[\"matched_rotation\"], int, int, float]\n",
    "\n",
    "class ZZPhaseMatcher:\n",
    "    def match_tket_op(\n",
    "        self, op: TketOp, op_args: list[CircuitUnit], context: MatchContext\n",
    "    ) -> MatchOutcome:\n",
    "        state: MatchState = context[\"match_info\"]\n",
    "\n",
    "        match state:\n",
    "            case None:\n",
    "                # We are looking for a CX\n",
    "                if matches_op(op, PyTketOp.CX):\n",
    "                    # This is the first matched op, so the relative position of\n",
    "                    # the qubits with respect to the already matched subcircuit\n",
    "                    # is not yet known.\n",
    "                    [ctrl_qubit, tgt_qubit] = [arg.linear_index for arg in op_args]\n",
    "                    assert all(arg.linear_pos is None for arg in op_args)\n",
    "\n",
    "                    return {\n",
    "                        \"proceed\": (\"matched_first_cx\", ctrl_qubit, tgt_qubit)\n",
    "                    }\n",
    "                else:\n",
    "                    return { \"stop\": True }\n",
    "            case (\"matched_first_cx\", ctrl_qubit, tgt_qubit):\n",
    "                # must come after the first CX\n",
    "                if not succeeds_previous_op(op_args):\n",
    "                    return { \"skip\": True }\n",
    "\n",
    "                # We are looking for a rotation\n",
    "                if matches_op(op, PyTketOp.Rz) and op_args[0].linear_index == tgt_qubit \\\n",
    "                                               and op_args[1].constant_float is not None:\n",
    "                    rot_angle = op_args[1].constant_float\n",
    "                    return {\n",
    "                        \"proceed\": (\"matched_rotation\", ctrl_qubit, tgt_qubit, rot_angle)\n",
    "                    }\n",
    "                else:\n",
    "                    return { \"skip\": True }\n",
    "            case (\"matched_rotation\", ctrl_qubit, tgt_qubit, rot_angle):\n",
    "                # must come after the first CX and the rotation\n",
    "                if not succeeds_previous_op(op_args):\n",
    "                    return { \"skip\": True }\n",
    "\n",
    "                # We are looking for a second CX\n",
    "                if matches_op(op, PyTketOp.CX) and [arg.linear_index for arg in op_args] == [ctrl_qubit, tgt_qubit]:\n",
    "                    return { \"complete\": rot_angle }\n",
    "                else:\n",
    "                    return { \"skip\": True }\n",
    "\n",
    "class FlippedZZPhase:\n",
    "    def replace_match(self, circuit: Tk2Circuit, match_info: float) -> list[Tk2Circuit]:\n",
    "        assert circuit.to_tket1().n_qubits == 2\n",
    "\n",
    "        flipped_circ = Circuit(2).CX(1, 0).Rz(match_info, 0).CX(1, 0)\n",
    "        # zzphase_circ = Circuit(2).CX(0, 1).Rz(match_info, 1).CX(0, 1)\n",
    "        return [Tk2Circuit(flipped_circ)]\n",
    "\n",
    "assert isinstance(ZZPhaseMatcher(), CircuitMatcher)\n",
    "assert isinstance(FlippedZZPhase(), CircuitReplacer)\n",
    "\n",
    "flip_zzphase = MatchReplaceRewriter(ZZPhaseMatcher(), FlippedZZPhase())"
   ]
  },
  {
   "cell_type": "markdown",
   "id": "6e4d62a0",
   "metadata": {},
   "source": [
    "We would like to combine `flip_zzphase` with `cancel_cx` to optimise the following circuit:"
   ]
  },
  {
   "cell_type": "code",
   "execution_count": 10,
   "id": "425621ee",
   "metadata": {},
   "outputs": [
    {
     "data": {
      "text/html": [
       "\n",
       "\n",
       "\n",
       "\n",
       "\n",
       "\n",
       "<div style=\"resize: vertical; overflow: auto; height: 400px; display: block\">\n",
       "    <iframe srcdoc=\"\n",
       "&lt;!DOCTYPE html&gt;\n",
       "&lt;html lang=&#34;en&#34;&gt;\n",
       "&lt;head&gt;\n",
       "    &lt;meta charset=&#34;UTF-8&#34;&gt;\n",
       "    &lt;!-- Download Vue 3--&gt;\n",
       "&lt;script type=&#34;application/javascript&#34; src=&#34;https://cdn.jsdelivr.net/npm/vue@3&#34;&gt;&lt;/script&gt;\n",
       "&lt;!-- Download Circuit Renderer with styles --&gt;\n",
       "&lt;script type=&#34;application/javascript&#34; src=&#34;https://unpkg.com/pytket-circuit-renderer@0.10/dist/pytket-circuit-renderer.umd.js&#34;&gt;&lt;/script&gt;\n",
       "&lt;link rel=&#34;stylesheet&#34; href=&#34;https://unpkg.com/pytket-circuit-renderer@0.10/dist/pytket-circuit-renderer.css&#34;&gt;\n",
       "&lt;/head&gt;\n",
       "&lt;body&gt;\n",
       "\n",
       "\n",
       "    &lt;div id=&#34;circuit-display-vue-container-d6a70082-7be1-4410-8edf-1a27beff2c94&#34; class=&#34;pytket-circuit-display-container&#34;&gt;\n",
       "        &lt;div style=&#34;display: none&#34;&gt;\n",
       "            &lt;div id=&#34;circuit-json-to-display&#34;&gt;{&#34;bits&#34;: [], &#34;commands&#34;: [{&#34;args&#34;: [[&#34;q&#34;, [0]], [&#34;q&#34;, [1]]], &#34;op&#34;: {&#34;type&#34;: &#34;CX&#34;}}, {&#34;args&#34;: [[&#34;q&#34;, [0]], [&#34;q&#34;, [1]]], &#34;op&#34;: {&#34;type&#34;: &#34;CX&#34;}}, {&#34;args&#34;: [[&#34;q&#34;, [1]]], &#34;op&#34;: {&#34;params&#34;: [&#34;0.111&#34;], &#34;type&#34;: &#34;Rz&#34;}}, {&#34;args&#34;: [[&#34;q&#34;, [0]], [&#34;q&#34;, [1]]], &#34;op&#34;: {&#34;type&#34;: &#34;CX&#34;}}, {&#34;args&#34;: [[&#34;q&#34;, [2]], [&#34;q&#34;, [0]]], &#34;op&#34;: {&#34;type&#34;: &#34;CX&#34;}}, {&#34;args&#34;: [[&#34;q&#34;, [0]], [&#34;q&#34;, [2]]], &#34;op&#34;: {&#34;type&#34;: &#34;CX&#34;}}, {&#34;args&#34;: [[&#34;q&#34;, [2]]], &#34;op&#34;: {&#34;params&#34;: [&#34;0.5&#34;], &#34;type&#34;: &#34;Rz&#34;}}, {&#34;args&#34;: [[&#34;q&#34;, [0]], [&#34;q&#34;, [2]]], &#34;op&#34;: {&#34;type&#34;: &#34;CX&#34;}}], &#34;created_qubits&#34;: [], &#34;discarded_qubits&#34;: [], &#34;implicit_permutation&#34;: [[[&#34;q&#34;, [0]], [&#34;q&#34;, [0]]], [[&#34;q&#34;, [1]], [&#34;q&#34;, [1]]], [[&#34;q&#34;, [2]], [&#34;q&#34;, [2]]]], &#34;phase&#34;: &#34;0.0&#34;, &#34;qubits&#34;: [[&#34;q&#34;, [0]], [&#34;q&#34;, [1]], [&#34;q&#34;, [2]]]}&lt;/div&gt;\n",
       "        &lt;/div&gt;\n",
       "        &lt;circuit-display-container\n",
       "                :circuit-element-str=&#34;&#39;#circuit-json-to-display&#39;&#34;\n",
       "                :init-render-options=&#34;initRenderOptions&#34;\n",
       "                view-format=&#34;None&#34;\n",
       "        &gt;&lt;/circuit-display-container&gt;\n",
       "    &lt;/div&gt;\n",
       "    &lt;script type=&#34;application/javascript&#34;&gt;\n",
       "      const circuitRendererUid = &#34;d6a70082-7be1-4410-8edf-1a27beff2c94&#34;;\n",
       "      const displayOptions = JSON.parse(&#39;{}&#39;);\n",
       "\n",
       "      // Script to initialise the circuit renderer app\n",
       "\n",
       "const { createApp } = Vue;\n",
       "const circuitDisplayContainer = window[&#34;pytket-circuit-renderer&#34;].default;\n",
       "// Init variables to be shared between circuit display instances\n",
       "if (typeof window.pytketCircuitDisplays === &#34;undefined&#34;) {\n",
       "    window.pytketCircuitDisplays = {};\n",
       "}\n",
       "// Create the root Vue component\n",
       "const app = createApp({\n",
       "    delimiters: [&#39;[[#&#39;, &#39;#]]&#39;],\n",
       "    components: { circuitDisplayContainer },\n",
       "    data () {\n",
       "      return {\n",
       "        initRenderOptions: displayOptions,\n",
       "      }\n",
       "    }\n",
       "})\n",
       "app.config.unwrapInjectedRef = true;\n",
       "app.mount(&#34;#circuit-display-vue-container-&#34;+circuitRendererUid);\n",
       "window.pytketCircuitDisplays[circuitRendererUid] = app;\n",
       "    &lt;/script&gt;\n",
       "\n",
       "\n",
       "\n",
       "&lt;/body&gt;\n",
       "&lt;/html&gt;\n",
       "\"\n",
       "            width=\"100%\" height=\"100%\"\n",
       "            style=\"border: none; outline: none; overflow: auto\"></iframe>\n",
       "</div>\n",
       "\n"
      ],
      "text/plain": [
       "<IPython.core.display.HTML object>"
      ]
     },
     "metadata": {},
     "output_type": "display_data"
    }
   ],
   "source": [
    "circ = Circuit(3).CX(0, 1).CX(0, 1).Rz(0.111, 1).CX(0, 1).CX(2, 0).CX(0, 2).Rz(0.5, 2).CX(0, 2)\n",
    "\n",
    "assert len(flip_zzphase.get_rewrites(Tk2Circuit(circ))) == 2\n",
    "\n",
    "render_circuit_jupyter(circ)"
   ]
  },
  {
   "cell_type": "markdown",
   "id": "edabcd21",
   "metadata": {},
   "source": [
    "Note that the order in which the rewrites should be performed is important in this case: if we apply all zzphase flips first, then the first two CX gates will no longer cancel out.\n",
    "\n",
    "The badger optimiser is smart: it will always find the best sequence of rewrites to minimise CX count. In this case, it will thus cancel the first two CX gates, then flip the ZZPhase at the end of the circuit before cancelling the resulting two CXs in the middle of the circuit:"
   ]
  },
  {
   "cell_type": "code",
   "execution_count": 11,
   "id": "b1816598",
   "metadata": {},
   "outputs": [
    {
     "data": {
      "text/html": [
       "\n",
       "\n",
       "\n",
       "\n",
       "\n",
       "\n",
       "<div style=\"resize: vertical; overflow: auto; height: 400px; display: block\">\n",
       "    <iframe srcdoc=\"\n",
       "&lt;!DOCTYPE html&gt;\n",
       "&lt;html lang=&#34;en&#34;&gt;\n",
       "&lt;head&gt;\n",
       "    &lt;meta charset=&#34;UTF-8&#34;&gt;\n",
       "    &lt;!-- Download Vue 3--&gt;\n",
       "&lt;script type=&#34;application/javascript&#34; src=&#34;https://cdn.jsdelivr.net/npm/vue@3&#34;&gt;&lt;/script&gt;\n",
       "&lt;!-- Download Circuit Renderer with styles --&gt;\n",
       "&lt;script type=&#34;application/javascript&#34; src=&#34;https://unpkg.com/pytket-circuit-renderer@0.10/dist/pytket-circuit-renderer.umd.js&#34;&gt;&lt;/script&gt;\n",
       "&lt;link rel=&#34;stylesheet&#34; href=&#34;https://unpkg.com/pytket-circuit-renderer@0.10/dist/pytket-circuit-renderer.css&#34;&gt;\n",
       "&lt;/head&gt;\n",
       "&lt;body&gt;\n",
       "\n",
       "\n",
       "    &lt;div id=&#34;circuit-display-vue-container-eb8984b2-5fa1-42a5-8ed1-e65450f81c54&#34; class=&#34;pytket-circuit-display-container&#34;&gt;\n",
       "        &lt;div style=&#34;display: none&#34;&gt;\n",
       "            &lt;div id=&#34;circuit-json-to-display&#34;&gt;{&#34;bits&#34;: [], &#34;commands&#34;: [{&#34;args&#34;: [[&#34;q&#34;, [1]]], &#34;op&#34;: {&#34;params&#34;: [&#34;0.111&#34;], &#34;type&#34;: &#34;Rz&#34;}}, {&#34;args&#34;: [[&#34;q&#34;, [0]], [&#34;q&#34;, [1]]], &#34;op&#34;: {&#34;type&#34;: &#34;CX&#34;}}, {&#34;args&#34;: [[&#34;q&#34;, [0]]], &#34;op&#34;: {&#34;params&#34;: [&#34;0.5&#34;], &#34;type&#34;: &#34;Rz&#34;}}, {&#34;args&#34;: [[&#34;q&#34;, [2]], [&#34;q&#34;, [0]]], &#34;op&#34;: {&#34;type&#34;: &#34;CX&#34;}}], &#34;created_qubits&#34;: [], &#34;discarded_qubits&#34;: [], &#34;implicit_permutation&#34;: [[[&#34;q&#34;, [0]], [&#34;q&#34;, [0]]], [[&#34;q&#34;, [1]], [&#34;q&#34;, [1]]], [[&#34;q&#34;, [2]], [&#34;q&#34;, [2]]]], &#34;phase&#34;: &#34;0.0&#34;, &#34;qubits&#34;: [[&#34;q&#34;, [0]], [&#34;q&#34;, [1]], [&#34;q&#34;, [2]]]}&lt;/div&gt;\n",
       "        &lt;/div&gt;\n",
       "        &lt;circuit-display-container\n",
       "                :circuit-element-str=&#34;&#39;#circuit-json-to-display&#39;&#34;\n",
       "                :init-render-options=&#34;initRenderOptions&#34;\n",
       "                view-format=&#34;None&#34;\n",
       "        &gt;&lt;/circuit-display-container&gt;\n",
       "    &lt;/div&gt;\n",
       "    &lt;script type=&#34;application/javascript&#34;&gt;\n",
       "      const circuitRendererUid = &#34;eb8984b2-5fa1-42a5-8ed1-e65450f81c54&#34;;\n",
       "      const displayOptions = JSON.parse(&#39;{}&#39;);\n",
       "\n",
       "      // Script to initialise the circuit renderer app\n",
       "\n",
       "const { createApp } = Vue;\n",
       "const circuitDisplayContainer = window[&#34;pytket-circuit-renderer&#34;].default;\n",
       "// Init variables to be shared between circuit display instances\n",
       "if (typeof window.pytketCircuitDisplays === &#34;undefined&#34;) {\n",
       "    window.pytketCircuitDisplays = {};\n",
       "}\n",
       "// Create the root Vue component\n",
       "const app = createApp({\n",
       "    delimiters: [&#39;[[#&#39;, &#39;#]]&#39;],\n",
       "    components: { circuitDisplayContainer },\n",
       "    data () {\n",
       "      return {\n",
       "        initRenderOptions: displayOptions,\n",
       "      }\n",
       "    }\n",
       "})\n",
       "app.config.unwrapInjectedRef = true;\n",
       "app.mount(&#34;#circuit-display-vue-container-&#34;+circuitRendererUid);\n",
       "window.pytketCircuitDisplays[circuitRendererUid] = app;\n",
       "    &lt;/script&gt;\n",
       "\n",
       "\n",
       "\n",
       "&lt;/body&gt;\n",
       "&lt;/html&gt;\n",
       "\"\n",
       "            width=\"100%\" height=\"100%\"\n",
       "            style=\"border: none; outline: none; overflow: auto\"></iframe>\n",
       "</div>\n",
       "\n"
      ],
      "text/plain": [
       "<IPython.core.display.HTML object>"
      ]
     },
     "metadata": {},
     "output_type": "display_data"
    }
   ],
   "source": [
    "opt = BadgerOptimiser([cancel_cx, flip_zzphase])\n",
    "opt_circ = opt.optimise(circ)\n",
    "\n",
    "assert opt_circ.n_gates_of_type(OpType.CX) == 2\n",
    "\n",
    "render_circuit_jupyter(opt_circ)"
   ]
  }
 ],
 "metadata": {
  "kernelspec": {
   "display_name": ".venv",
   "language": "python",
   "name": "python3"
  },
  "language_info": {
   "codemirror_mode": {
    "name": "ipython",
    "version": 3
   },
   "file_extension": ".py",
   "mimetype": "text/x-python",
   "name": "python",
   "nbconvert_exporter": "python",
   "pygments_lexer": "ipython3",
   "version": "3.10.16"
  }
 },
 "nbformat": 4,
 "nbformat_minor": 5
}
