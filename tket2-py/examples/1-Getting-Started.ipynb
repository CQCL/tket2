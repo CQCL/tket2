{
 "cells": [
  {
   "cell_type": "markdown",
   "id": "5662ddb4",
   "metadata": {},
   "source": [
    "# Getting started with tket2\n",
    "\n",
    "This demo notebook gives an overview of currently implemented tket2 features.\n",
    "\n",
    "Be aware that the library is still in development and some features may not be\n",
    "fully implemented or may change in the future.\n",
    "\n"
   ]
  },
  {
   "cell_type": "markdown",
   "id": "87af9fa1",
   "metadata": {},
   "source": [
    "## Installation\n",
    "\n",
    "To install the library, you can use pip:"
   ]
  },
  {
   "cell_type": "code",
   "execution_count": 1,
   "id": "25ac0737",
   "metadata": {},
   "outputs": [
    {
     "name": "stdout",
     "output_type": "stream",
     "text": [
      "Requirement already satisfied: tket2 in /Users/agustinborgna/src/tket2/.venv/lib/python3.12/site-packages (0.0.0a1)\n",
      "Note: you may need to restart the kernel to use updated packages.\n"
     ]
    }
   ],
   "source": [
    "%pip install tket2"
   ]
  },
  {
   "cell_type": "code",
   "execution_count": 2,
   "id": "0c2a523d",
   "metadata": {},
   "outputs": [],
   "source": [
    "from tket2.circuit import Tk2Circuit\n",
    "import math"
   ]
  },
  {
   "cell_type": "markdown",
   "id": "d9d52817",
   "metadata": {},
   "source": [
    "Let's configure pretty printing for the circuits, using the mermaid renderer.\n",
    "This will render the circuit graphs in `jupyter-lab`, but it is not currently supported when viewing the library in vscode."
   ]
  },
  {
   "cell_type": "code",
   "execution_count": 3,
   "id": "2896f51f",
   "metadata": {},
   "outputs": [],
   "source": [
    "from tket2.circuit import render_circuit_mermaid\n",
    "\n",
    "setattr(\n",
    "    Tk2Circuit,\n",
    "    \"_repr_markdown_\",\n",
    "    lambda self: f\"```mermaid\\n{render_circuit_mermaid(self)}\\n```\"\n",
    ")"
   ]
  },
  {
   "cell_type": "markdown",
   "id": "d403fe3b",
   "metadata": {},
   "source": [
    "# Defining circuits\n",
    "\n",
    "There are multiple ways for defining circuits in tket2.\n",
    "The library provides two limited builders, and it supports importing circuits from `guppy` and `pytket`.\n",
    "\n",
    "### Using the commands-based builder\n",
    "\n",
    "The simplest way is to use the commands-based builder interface `CircuitBuild`.\n",
    "It supports constructing pure circuits by listing a series of commands applied to specific qubits."
   ]
  },
  {
   "cell_type": "code",
   "execution_count": 4,
   "id": "71f02038",
   "metadata": {},
   "outputs": [
    {
     "data": {
      "text/markdown": [
       "```mermaid\n",
       "graph LR\n",
       "    subgraph 0 [\"(0) DFG\"]\n",
       "        direction LR\n",
       "        1[\"(1) Input\"]\n",
       "        1--\"0:0<br>qubit\"-->3\n",
       "        1--\"1:1<br>qubit\"-->4\n",
       "        2[\"(2) Output\"]\n",
       "        3[\"(3) quantum.tket2.H\"]\n",
       "        3--\"0:0<br>qubit\"-->4\n",
       "        4[\"(4) quantum.tket2.CX\"]\n",
       "        4--\"0:0<br>qubit\"-->2\n",
       "        4--\"1:1<br>qubit\"-->2\n",
       "    end\n",
       "\n",
       "```"
      ],
      "text/plain": [
       "<Tk2Circuit at 0x102cb1ec0>"
      ]
     },
     "execution_count": 4,
     "metadata": {},
     "output_type": "execute_result"
    }
   ],
   "source": [
    "from tket2.circuit.build import CircBuild, H, CX\n",
    "\n",
    "builder = CircBuild(n_qb=2)\n",
    "\n",
    "builder.extend([ H(0), CX(0, 1)])\n",
    "circ = builder.finish()\n",
    "circ"
   ]
  },
  {
   "cell_type": "markdown",
   "id": "f851efee-a33e-4261-ade8-a78f878e45e2",
   "metadata": {},
   "source": [
    "### Using the Dataflow Builder\n",
    "\n",
    "The Dataflow Builder is more flexible than `CircBuild`. It lets you connect arbitrary inputs and outputs to each operation.\n",
    "This way, you can define circuits that read the same boolean multiple times, or allocate qubits dynamically."
   ]
  },
  {
   "cell_type": "code",
   "execution_count": 5,
   "id": "3e3c2ed0-892b-42d7-b5e8-1bc81970635b",
   "metadata": {},
   "outputs": [
    {
     "data": {
      "text/markdown": [
       "```mermaid\n",
       "graph LR\n",
       "    subgraph 0 [\"(0) DFG\"]\n",
       "        direction LR\n",
       "        1[\"(1) Input\"]\n",
       "        1--\"0:0<br>qubit\"-->4\n",
       "        2[\"(2) Output\"]\n",
       "        3[\"(3) quantum.tket2.QAlloc\"]\n",
       "        3--\"0:1<br>qubit\"-->5\n",
       "        4[\"(4) quantum.tket2.H\"]\n",
       "        4--\"0:0<br>qubit\"-->5\n",
       "        5[\"(5) quantum.tket2.CX\"]\n",
       "        5--\"0:0<br>qubit\"-->6\n",
       "        5--\"1:0<br>qubit\"-->7\n",
       "        6[\"(6) quantum.tket2.Measure\"]\n",
       "        6--\"0:0<br>qubit\"-->8\n",
       "        6--\"1:0<br>[]+[]\"-->2\n",
       "        7[\"(7) quantum.tket2.Measure\"]\n",
       "        7--\"0:0<br>qubit\"-->9\n",
       "        7--\"1:1<br>[]+[]\"-->2\n",
       "        8[\"(8) quantum.tket2.QFree\"]\n",
       "        9[\"(9) quantum.tket2.QFree\"]\n",
       "    end\n",
       "\n",
       "```"
      ],
      "text/plain": [
       "<Tk2Circuit at 0x10374c900>"
      ]
     },
     "execution_count": 5,
     "metadata": {},
     "output_type": "execute_result"
    }
   ],
   "source": [
    "from tket2.circuit.build import Dfg, QB_T, BOOL_T\n",
    "from tket2.ops import Tk2Op\n",
    "\n",
    "# Start building DFG with one qubit input and two boolean outputs\n",
    "builder = Dfg(input_types=[QB_T], output_types=[BOOL_T, BOOL_T])\n",
    "\n",
    "# Qubits and booleans are identified by their \"Wires\" in the graph.\n",
    "# We can get the wire for the single input qubit.\n",
    "[q0] = builder.inputs()\n",
    "\n",
    "# And allocate a new qubit\n",
    "[q1] = builder.add_op(Tk2Op.QAlloc, []).outs(1)\n",
    "\n",
    "# Each operation returns the new wires it creates.\n",
    "[q0] = builder.add_op(Tk2Op.H, [q0]).outs(1)\n",
    "q0, q1 = builder.add_op(Tk2Op.CX, [q0, q1]).outs(2)\n",
    "\n",
    "# Some operations may have different numbers of inputs and outputs.\n",
    "[q0, b0] = builder.add_op(Tk2Op.Measure, [q0]).outs(2)\n",
    "[q1, b1] = builder.add_op(Tk2Op.Measure, [q1]).outs(2)\n",
    "\n",
    "# And some may have no outputs at all.\n",
    "builder.add_op(Tk2Op.QFree, [q0])\n",
    "builder.add_op(Tk2Op.QFree, [q1])\n",
    "\n",
    "# To get the final circuit, we need to call finish() with the desired output wires.\n",
    "circ = builder.finish([b0, b1])\n",
    "\n",
    "circ"
   ]
  },
  {
   "cell_type": "markdown",
   "id": "e3de0d13",
   "metadata": {},
   "source": [
    "### Using pytket\n",
    "\n",
    "We can convert from and to `pytket` circuits."
   ]
  },
  {
   "cell_type": "code",
   "execution_count": 6,
   "id": "0ffe2aed",
   "metadata": {},
   "outputs": [
    {
     "name": "stdout",
     "output_type": "stream",
     "text": [
      "Requirement already satisfied: pytket in /Users/agustinborgna/src/tket2/.venv/lib/python3.12/site-packages (1.29.0)\n",
      "Requirement already satisfied: sympy~=1.6 in /Users/agustinborgna/src/tket2/.venv/lib/python3.12/site-packages (from pytket) (1.12.1)\n",
      "Requirement already satisfied: numpy<2.0,>=1.21.4 in /Users/agustinborgna/src/tket2/.venv/lib/python3.12/site-packages (from pytket) (1.26.4)\n",
      "Requirement already satisfied: lark~=1.1 in /Users/agustinborgna/src/tket2/.venv/lib/python3.12/site-packages (from pytket) (1.1.9)\n",
      "Requirement already satisfied: scipy~=1.13 in /Users/agustinborgna/src/tket2/.venv/lib/python3.12/site-packages (from pytket) (1.13.1)\n",
      "Requirement already satisfied: networkx>=2.8.8 in /Users/agustinborgna/src/tket2/.venv/lib/python3.12/site-packages (from pytket) (3.3)\n",
      "Requirement already satisfied: graphviz~=0.14 in /Users/agustinborgna/src/tket2/.venv/lib/python3.12/site-packages (from pytket) (0.20.3)\n",
      "Requirement already satisfied: jinja2~=3.0 in /Users/agustinborgna/src/tket2/.venv/lib/python3.12/site-packages (from pytket) (3.1.4)\n",
      "Requirement already satisfied: types-pkg-resources in /Users/agustinborgna/src/tket2/.venv/lib/python3.12/site-packages (from pytket) (0.1.3)\n",
      "Requirement already satisfied: typing-extensions~=4.2 in /Users/agustinborgna/src/tket2/.venv/lib/python3.12/site-packages (from pytket) (4.12.2)\n",
      "Requirement already satisfied: qwasm~=1.0 in /Users/agustinborgna/src/tket2/.venv/lib/python3.12/site-packages (from pytket) (1.0.1)\n",
      "Requirement already satisfied: MarkupSafe>=2.0 in /Users/agustinborgna/src/tket2/.venv/lib/python3.12/site-packages (from jinja2~=3.0->pytket) (2.1.5)\n",
      "Requirement already satisfied: setuptools in /Users/agustinborgna/src/tket2/.venv/lib/python3.12/site-packages (from qwasm~=1.0->pytket) (70.0.0)\n",
      "Requirement already satisfied: mpmath<1.4.0,>=1.1.0 in /Users/agustinborgna/src/tket2/.venv/lib/python3.12/site-packages (from sympy~=1.6->pytket) (1.3.0)\n",
      "Note: you may need to restart the kernel to use updated packages.\n"
     ]
    }
   ],
   "source": [
    "%pip install pytket\n",
    "\n",
    "from pytket.circuit import Circuit as PytketCircuit\n",
    "from pytket.circuit.display import render_circuit_jupyter"
   ]
  },
  {
   "cell_type": "code",
   "execution_count": 7,
   "id": "f47e0f2d",
   "metadata": {},
   "outputs": [
    {
     "data": {
      "text/html": [
       "\n",
       "\n",
       "\n",
       "\n",
       "\n",
       "\n",
       "<div style=\"resize: vertical; overflow: auto; height: 400px; display: block\">\n",
       "    <iframe srcdoc=\"\n",
       "&lt;!DOCTYPE html&gt;\n",
       "&lt;html lang=&#34;en&#34;&gt;\n",
       "&lt;head&gt;\n",
       "    &lt;meta charset=&#34;UTF-8&#34;&gt;\n",
       "    &lt;!-- Download Vue 3--&gt;\n",
       "&lt;script type=&#34;application/javascript&#34; src=&#34;https://cdn.jsdelivr.net/npm/vue@3&#34;&gt;&lt;/script&gt;\n",
       "&lt;!-- Download Circuit Renderer with styles --&gt;\n",
       "&lt;script type=&#34;application/javascript&#34; src=&#34;https://unpkg.com/pytket-circuit-renderer@0.8/dist/pytket-circuit-renderer.umd.js&#34;&gt;&lt;/script&gt;\n",
       "&lt;link rel=&#34;stylesheet&#34; href=&#34;https://unpkg.com/pytket-circuit-renderer@0.8/dist/pytket-circuit-renderer.css&#34;&gt;\n",
       "&lt;/head&gt;\n",
       "&lt;body&gt;\n",
       "\n",
       "\n",
       "\n",
       "    &lt;div id=&#34;circuit-display-vue-container-9e8190d4-f20a-4c18-95cc-946747a661a5&#34; class=&#34;pytket-circuit-display-container&#34;&gt;\n",
       "        &lt;div style=&#34;display: none&#34;&gt;\n",
       "            &lt;div id=&#34;circuit-json-to-display&#34;&gt;{&#34;bits&#34;: [], &#34;commands&#34;: [{&#34;args&#34;: [[&#34;q&#34;, [0]]], &#34;op&#34;: {&#34;type&#34;: &#34;H&#34;}}, {&#34;args&#34;: [[&#34;q&#34;, [0]], [&#34;q&#34;, [1]]], &#34;op&#34;: {&#34;type&#34;: &#34;CX&#34;}}], &#34;created_qubits&#34;: [], &#34;discarded_qubits&#34;: [], &#34;implicit_permutation&#34;: [[[&#34;q&#34;, [0]], [&#34;q&#34;, [0]]], [[&#34;q&#34;, [1]], [&#34;q&#34;, [1]]]], &#34;phase&#34;: &#34;0.0&#34;, &#34;qubits&#34;: [[&#34;q&#34;, [0]], [&#34;q&#34;, [1]]]}&lt;/div&gt;\n",
       "        &lt;/div&gt;\n",
       "        &lt;circuit-display-container\n",
       "                :circuit-element-str=&#34;&#39;#circuit-json-to-display&#39;&#34;\n",
       "                :init-render-options=&#34;initRenderOptions&#34;\n",
       "        &gt;&lt;/circuit-display-container&gt;\n",
       "    &lt;/div&gt;\n",
       "    &lt;script type=&#34;application/javascript&#34;&gt;\n",
       "      const circuitRendererUid = &#34;9e8190d4-f20a-4c18-95cc-946747a661a5&#34;;\n",
       "      const displayOptions = JSON.parse(&#39;{}&#39;);\n",
       "\n",
       "      // Script to initialise the circuit renderer app\n",
       "\n",
       "const { createApp } = Vue;\n",
       "const circuitDisplayContainer = window[&#34;pytket-circuit-renderer&#34;].default;\n",
       "// Init variables to be shared between circuit display instances\n",
       "if (typeof window.pytketCircuitDisplays === &#34;undefined&#34;) {\n",
       "    window.pytketCircuitDisplays = {};\n",
       "}\n",
       "// Create the root Vue component\n",
       "const app = createApp({\n",
       "    delimiters: [&#39;[[#&#39;, &#39;#]]&#39;],\n",
       "    components: { circuitDisplayContainer },\n",
       "    data () {\n",
       "      return {\n",
       "        initRenderOptions: displayOptions,\n",
       "      }\n",
       "    }\n",
       "})\n",
       "app.config.unwrapInjectedRef = true;\n",
       "app.mount(&#34;#circuit-display-vue-container-&#34;+circuitRendererUid);\n",
       "window.pytketCircuitDisplays[circuitRendererUid] = app;\n",
       "    &lt;/script&gt;\n",
       "\n",
       "\n",
       "\n",
       "&lt;/body&gt;\n",
       "&lt;/html&gt;\n",
       "\"\n",
       "            width=\"100%\" height=\"100%\"\n",
       "            style=\"border: none; outline: none; overflow: auto\"></iframe>\n",
       "</div>\n",
       "\n"
      ],
      "text/plain": [
       "<IPython.core.display.HTML object>"
      ]
     },
     "metadata": {},
     "output_type": "display_data"
    },
    {
     "data": {
      "text/markdown": [
       "```mermaid\n",
       "graph LR\n",
       "    subgraph 0 [\"(0) FuncDefn\"]\n",
       "        direction LR\n",
       "        1[\"(1) Input\"]\n",
       "        1--\"0:0<br>qubit\"-->3\n",
       "        1--\"1:1<br>qubit\"-->4\n",
       "        2[\"(2) Output\"]\n",
       "        3[\"(3) quantum.tket2.H\"]\n",
       "        3--\"0:0<br>qubit\"-->4\n",
       "        4[\"(4) quantum.tket2.CX\"]\n",
       "        4--\"0:0<br>qubit\"-->2\n",
       "        4--\"1:1<br>qubit\"-->2\n",
       "    end\n",
       "\n",
       "```"
      ],
      "text/plain": [
       "<Tk2Circuit at 0x117611f30>"
      ]
     },
     "execution_count": 7,
     "metadata": {},
     "output_type": "execute_result"
    }
   ],
   "source": [
    "tk1_circ = PytketCircuit(2).H(0).CX(0, 1)\n",
    "render_circuit_jupyter(tk1_circ)\n",
    "\n",
    "circ = Tk2Circuit(tk1_circ)\n",
    "circ"
   ]
  },
  {
   "cell_type": "markdown",
   "id": "e5450c5d",
   "metadata": {},
   "source": [
    "### Using guppy\n",
    "\n",
    "Finally, if you have a circuit defined in `guppy` it can be imported directly into a `Tk2Circuit` object."
   ]
  },
  {
   "cell_type": "code",
   "execution_count": 8,
   "id": "975dbe01",
   "metadata": {},
   "outputs": [
    {
     "name": "stdout",
     "output_type": "stream",
     "text": [
      "Requirement already satisfied: guppylang in /Users/agustinborgna/src/tket2/.venv/lib/python3.12/site-packages (0.5.2)\n",
      "Requirement already satisfied: graphviz<0.21.0,>=0.20.1 in /Users/agustinborgna/src/tket2/.venv/lib/python3.12/site-packages (from guppylang) (0.20.3)\n",
      "Requirement already satisfied: hugr<0.3.0,>=0.2.1 in /Users/agustinborgna/src/tket2/.venv/lib/python3.12/site-packages (from guppylang) (0.2.1)\n",
      "Requirement already satisfied: networkx<4.0.0,>=3.2.1 in /Users/agustinborgna/src/tket2/.venv/lib/python3.12/site-packages (from guppylang) (3.3)\n",
      "Requirement already satisfied: pydantic<3.0.0,>=2.7.0b1 in /Users/agustinborgna/src/tket2/.venv/lib/python3.12/site-packages (from guppylang) (2.7.3)\n",
      "Requirement already satisfied: typing-extensions<5.0.0,>=4.9.0 in /Users/agustinborgna/src/tket2/.venv/lib/python3.12/site-packages (from guppylang) (4.12.2)\n",
      "Requirement already satisfied: annotated-types>=0.4.0 in /Users/agustinborgna/src/tket2/.venv/lib/python3.12/site-packages (from pydantic<3.0.0,>=2.7.0b1->guppylang) (0.7.0)\n",
      "Requirement already satisfied: pydantic-core==2.18.4 in /Users/agustinborgna/src/tket2/.venv/lib/python3.12/site-packages (from pydantic<3.0.0,>=2.7.0b1->guppylang) (2.18.4)\n",
      "Note: you may need to restart the kernel to use updated packages.\n"
     ]
    }
   ],
   "source": [
    "%pip install guppylang\n",
    "\n",
    "from guppylang import guppy\n",
    "from guppylang.module import GuppyModule\n",
    "from guppylang.prelude import quantum\n",
    "from guppylang.prelude.builtins import py\n",
    "from guppylang.prelude.quantum import measure, phased_x, qubit, rz, zz_max\n",
    "\n",
    "# We define a utility function to convert a GuppyModule to a Tk2Circuit.\n",
    "# This will be included with guppy in the future.\n",
    "from utils import guppy_to_circuit # type: ignore"
   ]
  },
  {
   "cell_type": "code",
   "execution_count": 9,
   "id": "96065d20",
   "metadata": {},
   "outputs": [
    {
     "data": {
      "text/markdown": [
       "```mermaid\n",
       "graph LR\n",
       "    subgraph 1 [\"(1) DFG\"]\n",
       "        direction LR\n",
       "        2[\"(2) Input\"]\n",
       "        2--\"0:0<br>qubit\"-->8\n",
       "        2--\"1:0<br>qubit\"-->16\n",
       "        27[\"(27) Output\"]\n",
       "        4[\"(4) const:custom:f64(1.5707963267948966)\"]\n",
       "        4--\"0:0<br>float64\"-->5\n",
       "        5[\"(5) LoadConstant\"]\n",
       "        5--\"0:1<br>float64\"-->8\n",
       "        6[\"(6) const:custom:f64(-1.5707963267948966)\"]\n",
       "        6--\"0:0<br>float64\"-->7\n",
       "        7[\"(7) LoadConstant\"]\n",
       "        7--\"0:2<br>float64\"-->8\n",
       "        8[\"(8) quantum.tket2.PhasedX\"]\n",
       "        8--\"0:0<br>qubit\"-->11\n",
       "        9[\"(9) const:custom:f64(3.141592653589793)\"]\n",
       "        9--\"0:0<br>float64\"-->10\n",
       "        10[\"(10) LoadConstant\"]\n",
       "        10--\"0:1<br>float64\"-->11\n",
       "        11[\"(11) quantum.tket2.RzF64\"]\n",
       "        11--\"0:0<br>qubit\"-->20\n",
       "        12[\"(12) const:custom:f64(1.5707963267948966)\"]\n",
       "        12--\"0:0<br>float64\"-->13\n",
       "        13[\"(13) LoadConstant\"]\n",
       "        13--\"0:1<br>float64\"-->16\n",
       "        14[\"(14) const:custom:f64(-1.5707963267948966)\"]\n",
       "        14--\"0:0<br>float64\"-->15\n",
       "        15[\"(15) LoadConstant\"]\n",
       "        15--\"0:2<br>float64\"-->16\n",
       "        16[\"(16) quantum.tket2.PhasedX\"]\n",
       "        16--\"0:0<br>qubit\"-->19\n",
       "        17[\"(17) const:custom:f64(3.141592653589793)\"]\n",
       "        17--\"0:0<br>float64\"-->18\n",
       "        18[\"(18) LoadConstant\"]\n",
       "        18--\"0:1<br>float64\"-->19\n",
       "        19[\"(19) quantum.tket2.RzF64\"]\n",
       "        19--\"0:1<br>qubit\"-->20\n",
       "        20[\"(20) quantum.tket2.ZZMax\"]\n",
       "        20--\"0:0<br>qubit\"-->23\n",
       "        20--\"1:0<br>qubit\"-->25\n",
       "        23[\"(23) quantum.tket2.Measure\"]\n",
       "        23--\"0:0<br>qubit\"-->24\n",
       "        24[\"(24) quantum.tket2.QFree\"]\n",
       "        25[\"(25) quantum.tket2.Measure\"]\n",
       "        25--\"0:0<br>qubit\"-->26\n",
       "        25--\"1:0<br>[]+[]\"-->27\n",
       "        26[\"(26) quantum.tket2.QFree\"]\n",
       "    end\n",
       "\n",
       "```"
      ],
      "text/plain": [
       "<Tk2Circuit at 0x1120e0030>"
      ]
     },
     "execution_count": 9,
     "metadata": {},
     "output_type": "execute_result"
    }
   ],
   "source": [
    "# Define a guppy module with a quantum function\n",
    "\n",
    "module = GuppyModule(\"test\")\n",
    "module.load(quantum)\n",
    "\n",
    "@guppy(module)\n",
    "def my_func(q0: qubit, q1: qubit) -> bool:\n",
    "    q0 = phased_x(q0, py(math.pi / 2), py(-math.pi / 2))\n",
    "    q0 = rz(q0, py(math.pi))\n",
    "    q1 = phased_x(q1, py(math.pi / 2), py(-math.pi / 2))\n",
    "    q1 = rz(q1, py(math.pi))\n",
    "    q0, q1 = zz_max(q0, q1)\n",
    "    _ = measure(q0)\n",
    "    return measure(q1)\n",
    "\n",
    "circ = guppy_to_circuit(my_func)\n",
    "circ"
   ]
  },
  {
   "cell_type": "markdown",
   "id": "55974636",
   "metadata": {},
   "source": [
    "This can be combined with the pytket conversion to obtain a `pytket` circuit from a guppy definition!"
   ]
  },
  {
   "cell_type": "code",
   "execution_count": 10,
   "id": "77feb50b",
   "metadata": {},
   "outputs": [
    {
     "data": {
      "text/html": [
       "\n",
       "\n",
       "\n",
       "\n",
       "\n",
       "\n",
       "<div style=\"resize: vertical; overflow: auto; height: 400px; display: block\">\n",
       "    <iframe srcdoc=\"\n",
       "&lt;!DOCTYPE html&gt;\n",
       "&lt;html lang=&#34;en&#34;&gt;\n",
       "&lt;head&gt;\n",
       "    &lt;meta charset=&#34;UTF-8&#34;&gt;\n",
       "    &lt;!-- Download Vue 3--&gt;\n",
       "&lt;script type=&#34;application/javascript&#34; src=&#34;https://cdn.jsdelivr.net/npm/vue@3&#34;&gt;&lt;/script&gt;\n",
       "&lt;!-- Download Circuit Renderer with styles --&gt;\n",
       "&lt;script type=&#34;application/javascript&#34; src=&#34;https://unpkg.com/pytket-circuit-renderer@0.8/dist/pytket-circuit-renderer.umd.js&#34;&gt;&lt;/script&gt;\n",
       "&lt;link rel=&#34;stylesheet&#34; href=&#34;https://unpkg.com/pytket-circuit-renderer@0.8/dist/pytket-circuit-renderer.css&#34;&gt;\n",
       "&lt;/head&gt;\n",
       "&lt;body&gt;\n",
       "\n",
       "\n",
       "\n",
       "    &lt;div id=&#34;circuit-display-vue-container-0d6130bb-4ca6-4484-a438-fd792259ab28&#34; class=&#34;pytket-circuit-display-container&#34;&gt;\n",
       "        &lt;div style=&#34;display: none&#34;&gt;\n",
       "            &lt;div id=&#34;circuit-json-to-display&#34;&gt;{&#34;bits&#34;: [[&#34;c&#34;, [0]], [&#34;c&#34;, [1]]], &#34;commands&#34;: [{&#34;args&#34;: [[&#34;q&#34;, [0]]], &#34;op&#34;: {&#34;params&#34;: [&#34;0.5&#34;, &#34;-0.5&#34;], &#34;type&#34;: &#34;PhasedX&#34;}}, {&#34;args&#34;: [[&#34;q&#34;, [1]]], &#34;op&#34;: {&#34;params&#34;: [&#34;0.5&#34;, &#34;-0.5&#34;], &#34;type&#34;: &#34;PhasedX&#34;}}, {&#34;args&#34;: [[&#34;q&#34;, [0]]], &#34;op&#34;: {&#34;params&#34;: [&#34;1&#34;], &#34;type&#34;: &#34;Rz&#34;}}, {&#34;args&#34;: [[&#34;q&#34;, [1]]], &#34;op&#34;: {&#34;params&#34;: [&#34;1&#34;], &#34;type&#34;: &#34;Rz&#34;}}, {&#34;args&#34;: [[&#34;q&#34;, [0]], [&#34;q&#34;, [1]]], &#34;op&#34;: {&#34;type&#34;: &#34;ZZMax&#34;}}, {&#34;args&#34;: [[&#34;q&#34;, [1]], [&#34;c&#34;, [0]]], &#34;op&#34;: {&#34;type&#34;: &#34;Measure&#34;}}, {&#34;args&#34;: [[&#34;q&#34;, [0]], [&#34;c&#34;, [1]]], &#34;op&#34;: {&#34;type&#34;: &#34;Measure&#34;}}], &#34;created_qubits&#34;: [], &#34;discarded_qubits&#34;: [], &#34;implicit_permutation&#34;: [[[&#34;q&#34;, [0]], [&#34;q&#34;, [0]]], [[&#34;q&#34;, [1]], [&#34;q&#34;, [1]]]], &#34;phase&#34;: &#34;0.0&#34;, &#34;qubits&#34;: [[&#34;q&#34;, [0]], [&#34;q&#34;, [1]]]}&lt;/div&gt;\n",
       "        &lt;/div&gt;\n",
       "        &lt;circuit-display-container\n",
       "                :circuit-element-str=&#34;&#39;#circuit-json-to-display&#39;&#34;\n",
       "                :init-render-options=&#34;initRenderOptions&#34;\n",
       "        &gt;&lt;/circuit-display-container&gt;\n",
       "    &lt;/div&gt;\n",
       "    &lt;script type=&#34;application/javascript&#34;&gt;\n",
       "      const circuitRendererUid = &#34;0d6130bb-4ca6-4484-a438-fd792259ab28&#34;;\n",
       "      const displayOptions = JSON.parse(&#39;{}&#39;);\n",
       "\n",
       "      // Script to initialise the circuit renderer app\n",
       "\n",
       "const { createApp } = Vue;\n",
       "const circuitDisplayContainer = window[&#34;pytket-circuit-renderer&#34;].default;\n",
       "// Init variables to be shared between circuit display instances\n",
       "if (typeof window.pytketCircuitDisplays === &#34;undefined&#34;) {\n",
       "    window.pytketCircuitDisplays = {};\n",
       "}\n",
       "// Create the root Vue component\n",
       "const app = createApp({\n",
       "    delimiters: [&#39;[[#&#39;, &#39;#]]&#39;],\n",
       "    components: { circuitDisplayContainer },\n",
       "    data () {\n",
       "      return {\n",
       "        initRenderOptions: displayOptions,\n",
       "      }\n",
       "    }\n",
       "})\n",
       "app.config.unwrapInjectedRef = true;\n",
       "app.mount(&#34;#circuit-display-vue-container-&#34;+circuitRendererUid);\n",
       "window.pytketCircuitDisplays[circuitRendererUid] = app;\n",
       "    &lt;/script&gt;\n",
       "\n",
       "\n",
       "\n",
       "&lt;/body&gt;\n",
       "&lt;/html&gt;\n",
       "\"\n",
       "            width=\"100%\" height=\"100%\"\n",
       "            style=\"border: none; outline: none; overflow: auto\"></iframe>\n",
       "</div>\n",
       "\n"
      ],
      "text/plain": [
       "<IPython.core.display.HTML object>"
      ]
     },
     "metadata": {},
     "output_type": "display_data"
    }
   ],
   "source": [
    "module = GuppyModule(\"test\")\n",
    "module.load(quantum)\n",
    "\n",
    "@guppy(module)\n",
    "def my_func(q0: qubit, q1: qubit) -> bool:\n",
    "    q0 = phased_x(q0, py(math.pi / 2), py(-math.pi / 2))\n",
    "    q0 = rz(q0, py(math.pi))\n",
    "    q1 = phased_x(q1, py(math.pi / 2), py(-math.pi / 2))\n",
    "    q1 = rz(q1, py(math.pi))\n",
    "    q0, q1 = zz_max(q0, q1)\n",
    "    _ = measure(q0)\n",
    "    return measure(q1)\n",
    "\n",
    "circ = guppy_to_circuit(my_func)\n",
    "tk1_circ = circ.to_tket1()\n",
    "\n",
    "render_circuit_jupyter(tk1_circ)"
   ]
  }
 ],
 "metadata": {
  "kernelspec": {
   "display_name": "Python 3 (ipykernel)",
   "language": "python",
   "name": "python3"
  },
  "language_info": {
   "codemirror_mode": {
    "name": "ipython",
    "version": 3
   },
   "file_extension": ".py",
   "mimetype": "text/x-python",
   "name": "python",
   "nbconvert_exporter": "python",
   "pygments_lexer": "ipython3",
   "version": "3.12.3"
  }
 },
 "nbformat": 4,
 "nbformat_minor": 5
}
